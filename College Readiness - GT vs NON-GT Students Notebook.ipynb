{
 "cells": [
  {
   "cell_type": "code",
   "execution_count": 1,
   "id": "fad0a46a",
   "metadata": {},
   "outputs": [],
   "source": [
    "import pandas as pd\n",
    "import matplotlib.pyplot as plt\n",
    "import numpy as np\n",
    "import math as math"
   ]
  },
  {
   "cell_type": "code",
   "execution_count": 2,
   "id": "7e588ad0",
   "metadata": {},
   "outputs": [],
   "source": [
    "%matplotlib inline"
   ]
  },
  {
   "cell_type": "code",
   "execution_count": 3,
   "id": "210d95bc",
   "metadata": {},
   "outputs": [],
   "source": [
    "sat_data_orig = pd.read_csv(\"satact-campus-data-class-2020.csv\")\n",
    "cam_data_orig = pd.read_csv(\"campus-analyze-2019-20.csv\")"
   ]
  },
  {
   "cell_type": "markdown",
   "id": "c4f73d90",
   "metadata": {},
   "source": [
    "- sat_data_orig: SAT Data acquired from TEA\n",
    "- cam_data_orig: Campus Data (High School, Middle School, Elementary) acquired from TEA"
   ]
  },
  {
   "cell_type": "code",
   "execution_count": 4,
   "id": "ffe9e33d",
   "metadata": {},
   "outputs": [
    {
     "data": {
      "text/html": [
       "<div>\n",
       "<style scoped>\n",
       "    .dataframe tbody tr th:only-of-type {\n",
       "        vertical-align: middle;\n",
       "    }\n",
       "\n",
       "    .dataframe tbody tr th {\n",
       "        vertical-align: top;\n",
       "    }\n",
       "\n",
       "    .dataframe thead th {\n",
       "        text-align: right;\n",
       "    }\n",
       "</style>\n",
       "<table border=\"1\" class=\"dataframe\">\n",
       "  <thead>\n",
       "    <tr style=\"text-align: right;\">\n",
       "      <th></th>\n",
       "      <th>Group</th>\n",
       "      <th>Campus</th>\n",
       "      <th>AICode</th>\n",
       "      <th>CampName</th>\n",
       "      <th>District</th>\n",
       "      <th>DistName</th>\n",
       "      <th>County</th>\n",
       "      <th>CntyName</th>\n",
       "      <th>Region</th>\n",
       "      <th>RegnName</th>\n",
       "      <th>Grads_Mskd</th>\n",
       "      <th>Exnees_Mskd</th>\n",
       "      <th>Part_Rate</th>\n",
       "      <th>Crit_Mskd</th>\n",
       "      <th>Above_Crit_Rate</th>\n",
       "      <th>TSI_Both_Mskd</th>\n",
       "      <th>Above_TSI_Both_Rate</th>\n",
       "    </tr>\n",
       "  </thead>\n",
       "  <tbody>\n",
       "    <tr>\n",
       "      <th>0</th>\n",
       "      <td>All Students</td>\n",
       "      <td>1902001</td>\n",
       "      <td>441165</td>\n",
       "      <td>Cayuga H S</td>\n",
       "      <td>1902</td>\n",
       "      <td>Cayuga ISD</td>\n",
       "      <td>1</td>\n",
       "      <td>Anderson County</td>\n",
       "      <td>7</td>\n",
       "      <td>Kilgore</td>\n",
       "      <td>&lt;50</td>\n",
       "      <td>&lt;25</td>\n",
       "      <td>31.7</td>\n",
       "      <td>&lt;25</td>\n",
       "      <td>NaN</td>\n",
       "      <td>&lt;25</td>\n",
       "      <td>30.8</td>\n",
       "    </tr>\n",
       "    <tr>\n",
       "      <th>1</th>\n",
       "      <td>African American</td>\n",
       "      <td>1902001</td>\n",
       "      <td>441165</td>\n",
       "      <td>Cayuga H S</td>\n",
       "      <td>1902</td>\n",
       "      <td>Cayuga ISD</td>\n",
       "      <td>1</td>\n",
       "      <td>Anderson County</td>\n",
       "      <td>7</td>\n",
       "      <td>Kilgore</td>\n",
       "      <td>&lt;25</td>\n",
       "      <td>&lt;25</td>\n",
       "      <td>NaN</td>\n",
       "      <td>&lt;25</td>\n",
       "      <td>NaN</td>\n",
       "      <td>&lt;25</td>\n",
       "      <td>NaN</td>\n",
       "    </tr>\n",
       "    <tr>\n",
       "      <th>2</th>\n",
       "      <td>American Indian</td>\n",
       "      <td>1902001</td>\n",
       "      <td>441165</td>\n",
       "      <td>Cayuga H S</td>\n",
       "      <td>1902</td>\n",
       "      <td>Cayuga ISD</td>\n",
       "      <td>1</td>\n",
       "      <td>Anderson County</td>\n",
       "      <td>7</td>\n",
       "      <td>Kilgore</td>\n",
       "      <td>&lt;25</td>\n",
       "      <td>&lt;25</td>\n",
       "      <td>NaN</td>\n",
       "      <td>&lt;25</td>\n",
       "      <td>NaN</td>\n",
       "      <td>&lt;25</td>\n",
       "      <td>NaN</td>\n",
       "    </tr>\n",
       "    <tr>\n",
       "      <th>3</th>\n",
       "      <td>Asian</td>\n",
       "      <td>1902001</td>\n",
       "      <td>441165</td>\n",
       "      <td>Cayuga H S</td>\n",
       "      <td>1902</td>\n",
       "      <td>Cayuga ISD</td>\n",
       "      <td>1</td>\n",
       "      <td>Anderson County</td>\n",
       "      <td>7</td>\n",
       "      <td>Kilgore</td>\n",
       "      <td>&lt;25</td>\n",
       "      <td>&lt;25</td>\n",
       "      <td>NaN</td>\n",
       "      <td>&lt;25</td>\n",
       "      <td>NaN</td>\n",
       "      <td>&lt;25</td>\n",
       "      <td>NaN</td>\n",
       "    </tr>\n",
       "    <tr>\n",
       "      <th>4</th>\n",
       "      <td>Hispanic</td>\n",
       "      <td>1902001</td>\n",
       "      <td>441165</td>\n",
       "      <td>Cayuga H S</td>\n",
       "      <td>1902</td>\n",
       "      <td>Cayuga ISD</td>\n",
       "      <td>1</td>\n",
       "      <td>Anderson County</td>\n",
       "      <td>7</td>\n",
       "      <td>Kilgore</td>\n",
       "      <td>&lt;25</td>\n",
       "      <td>&lt;25</td>\n",
       "      <td>33.3</td>\n",
       "      <td>&lt;25</td>\n",
       "      <td>NaN</td>\n",
       "      <td>&lt;25</td>\n",
       "      <td>NaN</td>\n",
       "    </tr>\n",
       "  </tbody>\n",
       "</table>\n",
       "</div>"
      ],
      "text/plain": [
       "              Group   Campus  AICode    CampName  District    DistName  \\\n",
       "0      All Students  1902001  441165  Cayuga H S      1902  Cayuga ISD   \n",
       "1  African American  1902001  441165  Cayuga H S      1902  Cayuga ISD   \n",
       "2   American Indian  1902001  441165  Cayuga H S      1902  Cayuga ISD   \n",
       "3             Asian  1902001  441165  Cayuga H S      1902  Cayuga ISD   \n",
       "4          Hispanic  1902001  441165  Cayuga H S      1902  Cayuga ISD   \n",
       "\n",
       "   County         CntyName  Region RegnName Grads_Mskd Exnees_Mskd  Part_Rate  \\\n",
       "0       1  Anderson County       7  Kilgore        <50         <25       31.7   \n",
       "1       1  Anderson County       7  Kilgore        <25         <25        NaN   \n",
       "2       1  Anderson County       7  Kilgore        <25         <25        NaN   \n",
       "3       1  Anderson County       7  Kilgore        <25         <25        NaN   \n",
       "4       1  Anderson County       7  Kilgore        <25         <25       33.3   \n",
       "\n",
       "  Crit_Mskd  Above_Crit_Rate TSI_Both_Mskd  Above_TSI_Both_Rate  \n",
       "0       <25              NaN           <25                 30.8  \n",
       "1       <25              NaN           <25                  NaN  \n",
       "2       <25              NaN           <25                  NaN  \n",
       "3       <25              NaN           <25                  NaN  \n",
       "4       <25              NaN           <25                  NaN  "
      ]
     },
     "execution_count": 4,
     "metadata": {},
     "output_type": "execute_result"
    }
   ],
   "source": [
    "sat_data_orig.head()"
   ]
  },
  {
   "cell_type": "code",
   "execution_count": 5,
   "id": "106d3185",
   "metadata": {},
   "outputs": [
    {
     "data": {
      "text/html": [
       "<div>\n",
       "<style scoped>\n",
       "    .dataframe tbody tr th:only-of-type {\n",
       "        vertical-align: middle;\n",
       "    }\n",
       "\n",
       "    .dataframe tbody tr th {\n",
       "        vertical-align: top;\n",
       "    }\n",
       "\n",
       "    .dataframe thead th {\n",
       "        text-align: right;\n",
       "    }\n",
       "</style>\n",
       "<table border=\"1\" class=\"dataframe\">\n",
       "  <thead>\n",
       "    <tr style=\"text-align: right;\">\n",
       "      <th></th>\n",
       "      <th>Campus Name</th>\n",
       "      <th>Campus</th>\n",
       "      <th>Campus Type</th>\n",
       "      <th>Campus Type Description</th>\n",
       "    </tr>\n",
       "  </thead>\n",
       "  <tbody>\n",
       "    <tr>\n",
       "      <th>0</th>\n",
       "      <td>21ST CENTURY EARLY LEARNING FOUNDATIONS ACADEMY</td>\n",
       "      <td>108913118</td>\n",
       "      <td>21</td>\n",
       "      <td>Suburb: Large</td>\n",
       "    </tr>\n",
       "    <tr>\n",
       "      <th>1</th>\n",
       "      <td>3D ACADEMY</td>\n",
       "      <td>108902006</td>\n",
       "      <td>21</td>\n",
       "      <td>Suburb: Large</td>\n",
       "    </tr>\n",
       "    <tr>\n",
       "      <th>2</th>\n",
       "      <td>A &amp; M CONS H S</td>\n",
       "      <td>21901001</td>\n",
       "      <td>12</td>\n",
       "      <td>City: Midsize</td>\n",
       "    </tr>\n",
       "    <tr>\n",
       "      <th>3</th>\n",
       "      <td>A &amp; M CONSOLIDATED MIDDLE</td>\n",
       "      <td>21901042</td>\n",
       "      <td>12</td>\n",
       "      <td>City: Midsize</td>\n",
       "    </tr>\n",
       "    <tr>\n",
       "      <th>4</th>\n",
       "      <td>A B DUNCAN EL</td>\n",
       "      <td>77901101</td>\n",
       "      <td>41</td>\n",
       "      <td>Rural: Fringe</td>\n",
       "    </tr>\n",
       "  </tbody>\n",
       "</table>\n",
       "</div>"
      ],
      "text/plain": [
       "                                       Campus Name     Campus  Campus Type  \\\n",
       "0  21ST CENTURY EARLY LEARNING FOUNDATIONS ACADEMY  108913118           21   \n",
       "1                                       3D ACADEMY  108902006           21   \n",
       "2                                   A & M CONS H S   21901001           12   \n",
       "3                        A & M CONSOLIDATED MIDDLE   21901042           12   \n",
       "4                                    A B DUNCAN EL   77901101           41   \n",
       "\n",
       "  Campus Type Description  \n",
       "0           Suburb: Large  \n",
       "1           Suburb: Large  \n",
       "2           City: Midsize  \n",
       "3           City: Midsize  \n",
       "4           Rural: Fringe  "
      ]
     },
     "execution_count": 5,
     "metadata": {},
     "output_type": "execute_result"
    }
   ],
   "source": [
    "cam_data_orig.head()"
   ]
  },
  {
   "cell_type": "markdown",
   "id": "f113b5e7",
   "metadata": {},
   "source": [
    "## Classifications for Schools\n",
    "* 11 – City-Large: Territory inside an Urbanized Area and inside a Principal City with population of 250,000 or more.\n",
    "\"\n",
    "* 12 – City-Midsize: Territory inside an Urbanized Area and inside a Principal City with population less than 250,000 and greater than or equal to 100,000.\n",
    "* 13 – City-Small: Territory inside an Urbanized Area and inside a Principal City with population less than 100,000.\n",
    "* 21 – Suburban-Large: Territory outside a Principal City and inside an Urbanized Area with population of 250,000 or more.\n",
    "* 22 – Suburban-Midsize: Territory outside a Principal City and inside an Urbanized Area with population less than 250,000 and greater than or equal to 100,000.\n",
    "* 23 – Suburban-Small: Territory outside a Principal City and inside an Urbanized Area with population less than 100,000.\n",
    "* 31 – Town-Fringe: Territory inside an Urban Cluster that is less than or equal to 10 miles from an Urbanized Area.  \n",
    "* 32 – Town-Distant: Territory inside an Urban Cluster that is more than 10 miles and less than or equal to 35 miles from an Urbanized Area.\n",
    "* 33 – Town-Remote: Territory inside an Urban Cluster that is more than 35 miles from an Urbanized Area.\n",
    "* 41 – Rural-Fringe: Census-defined rural territory that is less than or equal to 5 miles from an Urbanized Area, as well as rural territory that is less than or equal to 2.5 miles from an Urban Cluster.\n",
    "* 42 – Rural-Distant: Census-defined rural territory that is more than 5 miles but less than or equal to 25 miles from an Urbanized Area, as well as rural territory that is more than 2.5 miles but less than or equal to 10 miles from an Urban Cluster.\n",
    "* 43 – Rural-Remote: Census-defined rural territory that is more than 25 miles from an Urbanized Area and also more than 10 miles from an Urban Cluster."
   ]
  },
  {
   "cell_type": "markdown",
   "id": "1a8c139c",
   "metadata": {},
   "source": [
    "## Dividing Schools into above categories"
   ]
  },
  {
   "cell_type": "code",
   "execution_count": 6,
   "id": "f4cc243b",
   "metadata": {},
   "outputs": [
    {
     "data": {
      "text/html": [
       "<div>\n",
       "<style scoped>\n",
       "    .dataframe tbody tr th:only-of-type {\n",
       "        vertical-align: middle;\n",
       "    }\n",
       "\n",
       "    .dataframe tbody tr th {\n",
       "        vertical-align: top;\n",
       "    }\n",
       "\n",
       "    .dataframe thead th {\n",
       "        text-align: right;\n",
       "    }\n",
       "</style>\n",
       "<table border=\"1\" class=\"dataframe\">\n",
       "  <thead>\n",
       "    <tr style=\"text-align: right;\">\n",
       "      <th></th>\n",
       "      <th>Campus Name</th>\n",
       "      <th>Campus</th>\n",
       "      <th>Campus Type</th>\n",
       "      <th>Campus Type Description</th>\n",
       "    </tr>\n",
       "  </thead>\n",
       "  <tbody>\n",
       "    <tr>\n",
       "      <th>11</th>\n",
       "      <td>A LEAL JR MIDDLE</td>\n",
       "      <td>15904042</td>\n",
       "      <td>11</td>\n",
       "      <td>City: Large</td>\n",
       "    </tr>\n",
       "    <tr>\n",
       "      <th>13</th>\n",
       "      <td>A M PATE EL</td>\n",
       "      <td>220905153</td>\n",
       "      <td>11</td>\n",
       "      <td>City: Large</td>\n",
       "    </tr>\n",
       "    <tr>\n",
       "      <th>17</th>\n",
       "      <td>A V CATO EL</td>\n",
       "      <td>220917101</td>\n",
       "      <td>11</td>\n",
       "      <td>City: Large</td>\n",
       "    </tr>\n",
       "    <tr>\n",
       "      <th>18</th>\n",
       "      <td>A+ ACADEMY EL</td>\n",
       "      <td>57829001</td>\n",
       "      <td>11</td>\n",
       "      <td>City: Large</td>\n",
       "    </tr>\n",
       "    <tr>\n",
       "      <th>19</th>\n",
       "      <td>A+ SECONDARY SCHOOL</td>\n",
       "      <td>57829002</td>\n",
       "      <td>11</td>\n",
       "      <td>City: Large</td>\n",
       "    </tr>\n",
       "  </tbody>\n",
       "</table>\n",
       "</div>"
      ],
      "text/plain": [
       "            Campus Name     Campus  Campus Type Campus Type Description\n",
       "11     A LEAL JR MIDDLE   15904042           11             City: Large\n",
       "13          A M PATE EL  220905153           11             City: Large\n",
       "17          A V CATO EL  220917101           11             City: Large\n",
       "18        A+ ACADEMY EL   57829001           11             City: Large\n",
       "19  A+ SECONDARY SCHOOL   57829002           11             City: Large"
      ]
     },
     "execution_count": 6,
     "metadata": {},
     "output_type": "execute_result"
    }
   ],
   "source": [
    "large_city_schools = cam_data_orig[cam_data_orig[\"Campus Type\"] == 11]\n",
    "large_city_schools.head()"
   ]
  },
  {
   "cell_type": "code",
   "execution_count": 7,
   "id": "86af335b",
   "metadata": {},
   "outputs": [
    {
     "data": {
      "text/plain": [
       "Campus Name                2437\n",
       "Campus                     2437\n",
       "Campus Type                2437\n",
       "Campus Type Description    2437\n",
       "dtype: int64"
      ]
     },
     "execution_count": 7,
     "metadata": {},
     "output_type": "execute_result"
    }
   ],
   "source": [
    "large_city_schools.count()"
   ]
  },
  {
   "cell_type": "code",
   "execution_count": 8,
   "id": "8e27c0c0",
   "metadata": {},
   "outputs": [
    {
     "data": {
      "text/html": [
       "<div>\n",
       "<style scoped>\n",
       "    .dataframe tbody tr th:only-of-type {\n",
       "        vertical-align: middle;\n",
       "    }\n",
       "\n",
       "    .dataframe tbody tr th {\n",
       "        vertical-align: top;\n",
       "    }\n",
       "\n",
       "    .dataframe thead th {\n",
       "        text-align: right;\n",
       "    }\n",
       "</style>\n",
       "<table border=\"1\" class=\"dataframe\">\n",
       "  <thead>\n",
       "    <tr style=\"text-align: right;\">\n",
       "      <th></th>\n",
       "      <th>Campus Name</th>\n",
       "      <th>Campus</th>\n",
       "      <th>Campus Type</th>\n",
       "      <th>Campus Type Description</th>\n",
       "    </tr>\n",
       "  </thead>\n",
       "  <tbody>\n",
       "    <tr>\n",
       "      <th>2</th>\n",
       "      <td>A &amp; M CONS H S</td>\n",
       "      <td>21901001</td>\n",
       "      <td>12</td>\n",
       "      <td>City: Midsize</td>\n",
       "    </tr>\n",
       "    <tr>\n",
       "      <th>3</th>\n",
       "      <td>A &amp; M CONSOLIDATED MIDDLE</td>\n",
       "      <td>21901042</td>\n",
       "      <td>12</td>\n",
       "      <td>City: Midsize</td>\n",
       "    </tr>\n",
       "    <tr>\n",
       "      <th>26</th>\n",
       "      <td>ABELL J H</td>\n",
       "      <td>165901047</td>\n",
       "      <td>12</td>\n",
       "      <td>City: Midsize</td>\n",
       "    </tr>\n",
       "    <tr>\n",
       "      <th>31</th>\n",
       "      <td>ABILENE H S</td>\n",
       "      <td>221901001</td>\n",
       "      <td>12</td>\n",
       "      <td>City: Midsize</td>\n",
       "    </tr>\n",
       "    <tr>\n",
       "      <th>37</th>\n",
       "      <td>ACADEMY FOR TECHNOLOGY ENGINEERING MATH &amp; SCIENCE</td>\n",
       "      <td>221901010</td>\n",
       "      <td>12</td>\n",
       "      <td>City: Midsize</td>\n",
       "    </tr>\n",
       "  </tbody>\n",
       "</table>\n",
       "</div>"
      ],
      "text/plain": [
       "                                          Campus Name     Campus  Campus Type  \\\n",
       "2                                      A & M CONS H S   21901001           12   \n",
       "3                           A & M CONSOLIDATED MIDDLE   21901042           12   \n",
       "26                                          ABELL J H  165901047           12   \n",
       "31                                        ABILENE H S  221901001           12   \n",
       "37  ACADEMY FOR TECHNOLOGY ENGINEERING MATH & SCIENCE  221901010           12   \n",
       "\n",
       "   Campus Type Description  \n",
       "2            City: Midsize  \n",
       "3            City: Midsize  \n",
       "26           City: Midsize  \n",
       "31           City: Midsize  \n",
       "37           City: Midsize  "
      ]
     },
     "execution_count": 8,
     "metadata": {},
     "output_type": "execute_result"
    }
   ],
   "source": [
    "mid_city_schools = cam_data_orig[cam_data_orig[\"Campus Type\"] == 12]\n",
    "mid_city_schools.head()"
   ]
  },
  {
   "cell_type": "code",
   "execution_count": 9,
   "id": "6836eca1",
   "metadata": {},
   "outputs": [
    {
     "data": {
      "text/plain": [
       "Campus Name                695\n",
       "Campus                     695\n",
       "Campus Type                695\n",
       "Campus Type Description    695\n",
       "dtype: int64"
      ]
     },
     "execution_count": 9,
     "metadata": {},
     "output_type": "execute_result"
    }
   ],
   "source": [
    "mid_city_schools.count()"
   ]
  },
  {
   "cell_type": "code",
   "execution_count": 10,
   "id": "5628a6da",
   "metadata": {},
   "outputs": [
    {
     "data": {
      "text/html": [
       "<div>\n",
       "<style scoped>\n",
       "    .dataframe tbody tr th:only-of-type {\n",
       "        vertical-align: middle;\n",
       "    }\n",
       "\n",
       "    .dataframe tbody tr th {\n",
       "        vertical-align: top;\n",
       "    }\n",
       "\n",
       "    .dataframe thead th {\n",
       "        text-align: right;\n",
       "    }\n",
       "</style>\n",
       "<table border=\"1\" class=\"dataframe\">\n",
       "  <thead>\n",
       "    <tr style=\"text-align: right;\">\n",
       "      <th></th>\n",
       "      <th>Campus Name</th>\n",
       "      <th>Campus</th>\n",
       "      <th>Campus Type</th>\n",
       "      <th>Campus Type Description</th>\n",
       "    </tr>\n",
       "  </thead>\n",
       "  <tbody>\n",
       "    <tr>\n",
       "      <th>88</th>\n",
       "      <td>ALAMO EL</td>\n",
       "      <td>101911101</td>\n",
       "      <td>13</td>\n",
       "      <td>City: Small</td>\n",
       "    </tr>\n",
       "    <tr>\n",
       "      <th>115</th>\n",
       "      <td>ALFONSO RAMIREZ EL</td>\n",
       "      <td>108904129</td>\n",
       "      <td>13</td>\n",
       "      <td>City: Small</td>\n",
       "    </tr>\n",
       "    <tr>\n",
       "      <th>179</th>\n",
       "      <td>ALTON BOWEN EL</td>\n",
       "      <td>21902117</td>\n",
       "      <td>13</td>\n",
       "      <td>City: Small</td>\n",
       "    </tr>\n",
       "    <tr>\n",
       "      <th>198</th>\n",
       "      <td>AMADOR R RODRIGUEZ JUVENILE BOOT CAMP</td>\n",
       "      <td>31912005</td>\n",
       "      <td>13</td>\n",
       "      <td>City: Small</td>\n",
       "    </tr>\n",
       "    <tr>\n",
       "      <th>220</th>\n",
       "      <td>ANDERSON EL</td>\n",
       "      <td>170902101</td>\n",
       "      <td>13</td>\n",
       "      <td>City: Small</td>\n",
       "    </tr>\n",
       "  </tbody>\n",
       "</table>\n",
       "</div>"
      ],
      "text/plain": [
       "                               Campus Name     Campus  Campus Type  \\\n",
       "88                                ALAMO EL  101911101           13   \n",
       "115                     ALFONSO RAMIREZ EL  108904129           13   \n",
       "179                         ALTON BOWEN EL   21902117           13   \n",
       "198  AMADOR R RODRIGUEZ JUVENILE BOOT CAMP   31912005           13   \n",
       "220                            ANDERSON EL  170902101           13   \n",
       "\n",
       "    Campus Type Description  \n",
       "88              City: Small  \n",
       "115             City: Small  \n",
       "179             City: Small  \n",
       "198             City: Small  \n",
       "220             City: Small  "
      ]
     },
     "execution_count": 10,
     "metadata": {},
     "output_type": "execute_result"
    }
   ],
   "source": [
    "small_city_schools = cam_data_orig[cam_data_orig[\"Campus Type\"] == 13]\n",
    "small_city_schools.head()"
   ]
  },
  {
   "cell_type": "code",
   "execution_count": 11,
   "id": "31c7fed6",
   "metadata": {},
   "outputs": [
    {
     "data": {
      "text/plain": [
       "Campus Name                376\n",
       "Campus                     376\n",
       "Campus Type                376\n",
       "Campus Type Description    376\n",
       "dtype: int64"
      ]
     },
     "execution_count": 11,
     "metadata": {},
     "output_type": "execute_result"
    }
   ],
   "source": [
    "small_city_schools.count()"
   ]
  },
  {
   "cell_type": "code",
   "execution_count": 12,
   "id": "09f80ec9",
   "metadata": {},
   "outputs": [
    {
     "data": {
      "text/html": [
       "<div>\n",
       "<style scoped>\n",
       "    .dataframe tbody tr th:only-of-type {\n",
       "        vertical-align: middle;\n",
       "    }\n",
       "\n",
       "    .dataframe tbody tr th {\n",
       "        vertical-align: top;\n",
       "    }\n",
       "\n",
       "    .dataframe thead th {\n",
       "        text-align: right;\n",
       "    }\n",
       "</style>\n",
       "<table border=\"1\" class=\"dataframe\">\n",
       "  <thead>\n",
       "    <tr style=\"text-align: right;\">\n",
       "      <th></th>\n",
       "      <th>Campus Name</th>\n",
       "      <th>Campus</th>\n",
       "      <th>Campus Type</th>\n",
       "      <th>Campus Type Description</th>\n",
       "    </tr>\n",
       "  </thead>\n",
       "  <tbody>\n",
       "    <tr>\n",
       "      <th>0</th>\n",
       "      <td>21ST CENTURY EARLY LEARNING FOUNDATIONS ACADEMY</td>\n",
       "      <td>108913118</td>\n",
       "      <td>21</td>\n",
       "      <td>Suburb: Large</td>\n",
       "    </tr>\n",
       "    <tr>\n",
       "      <th>1</th>\n",
       "      <td>3D ACADEMY</td>\n",
       "      <td>108902006</td>\n",
       "      <td>21</td>\n",
       "      <td>Suburb: Large</td>\n",
       "    </tr>\n",
       "    <tr>\n",
       "      <th>10</th>\n",
       "      <td>A G ELDER EL</td>\n",
       "      <td>126905103</td>\n",
       "      <td>21</td>\n",
       "      <td>Suburb: Large</td>\n",
       "    </tr>\n",
       "    <tr>\n",
       "      <th>12</th>\n",
       "      <td>A M OCHOA EL</td>\n",
       "      <td>108902104</td>\n",
       "      <td>21</td>\n",
       "      <td>Suburb: Large</td>\n",
       "    </tr>\n",
       "    <tr>\n",
       "      <th>14</th>\n",
       "      <td>A N RICO EL</td>\n",
       "      <td>108913113</td>\n",
       "      <td>21</td>\n",
       "      <td>Suburb: Large</td>\n",
       "    </tr>\n",
       "  </tbody>\n",
       "</table>\n",
       "</div>"
      ],
      "text/plain": [
       "                                        Campus Name     Campus  Campus Type  \\\n",
       "0   21ST CENTURY EARLY LEARNING FOUNDATIONS ACADEMY  108913118           21   \n",
       "1                                        3D ACADEMY  108902006           21   \n",
       "10                                     A G ELDER EL  126905103           21   \n",
       "12                                     A M OCHOA EL  108902104           21   \n",
       "14                                      A N RICO EL  108913113           21   \n",
       "\n",
       "   Campus Type Description  \n",
       "0            Suburb: Large  \n",
       "1            Suburb: Large  \n",
       "10           Suburb: Large  \n",
       "12           Suburb: Large  \n",
       "14           Suburb: Large  "
      ]
     },
     "execution_count": 12,
     "metadata": {},
     "output_type": "execute_result"
    }
   ],
   "source": [
    "large_sub_schools = cam_data_orig[cam_data_orig[\"Campus Type\"] == 21]\n",
    "large_sub_schools.head()"
   ]
  },
  {
   "cell_type": "code",
   "execution_count": 13,
   "id": "67b95b48",
   "metadata": {},
   "outputs": [
    {
     "data": {
      "text/plain": [
       "Campus Name                1920\n",
       "Campus                     1920\n",
       "Campus Type                1920\n",
       "Campus Type Description    1920\n",
       "dtype: int64"
      ]
     },
     "execution_count": 13,
     "metadata": {},
     "output_type": "execute_result"
    }
   ],
   "source": [
    "large_sub_schools.count()"
   ]
  },
  {
   "cell_type": "code",
   "execution_count": 14,
   "id": "4bb0ea93",
   "metadata": {},
   "outputs": [
    {
     "data": {
      "text/html": [
       "<div>\n",
       "<style scoped>\n",
       "    .dataframe tbody tr th:only-of-type {\n",
       "        vertical-align: middle;\n",
       "    }\n",
       "\n",
       "    .dataframe tbody tr th {\n",
       "        vertical-align: top;\n",
       "    }\n",
       "\n",
       "    .dataframe thead th {\n",
       "        text-align: right;\n",
       "    }\n",
       "</style>\n",
       "<table border=\"1\" class=\"dataframe\">\n",
       "  <thead>\n",
       "    <tr style=\"text-align: right;\">\n",
       "      <th></th>\n",
       "      <th>Campus Name</th>\n",
       "      <th>Campus</th>\n",
       "      <th>Campus Type</th>\n",
       "      <th>Campus Type Description</th>\n",
       "    </tr>\n",
       "  </thead>\n",
       "  <tbody>\n",
       "    <tr>\n",
       "      <th>83</th>\n",
       "      <td>AIM CENTER H S</td>\n",
       "      <td>181907002</td>\n",
       "      <td>22</td>\n",
       "      <td>Suburb: Midsize</td>\n",
       "    </tr>\n",
       "    <tr>\n",
       "      <th>97</th>\n",
       "      <td>ALBERT &amp; IOLA LEE DAVIS MALVERN EL</td>\n",
       "      <td>43907118</td>\n",
       "      <td>22</td>\n",
       "      <td>Suburb: Midsize</td>\n",
       "    </tr>\n",
       "    <tr>\n",
       "      <th>159</th>\n",
       "      <td>ALTER SCH</td>\n",
       "      <td>123908002</td>\n",
       "      <td>22</td>\n",
       "      <td>Suburb: Midsize</td>\n",
       "    </tr>\n",
       "    <tr>\n",
       "      <th>164</th>\n",
       "      <td>ALTERNATIVE EDUCATION SCHOOL</td>\n",
       "      <td>123905002</td>\n",
       "      <td>22</td>\n",
       "      <td>Suburb: Midsize</td>\n",
       "    </tr>\n",
       "    <tr>\n",
       "      <th>239</th>\n",
       "      <td>ANGELA GERUSA LEAL EL</td>\n",
       "      <td>31912117</td>\n",
       "      <td>22</td>\n",
       "      <td>Suburb: Midsize</td>\n",
       "    </tr>\n",
       "  </tbody>\n",
       "</table>\n",
       "</div>"
      ],
      "text/plain": [
       "                            Campus Name     Campus  Campus Type  \\\n",
       "83                       AIM CENTER H S  181907002           22   \n",
       "97   ALBERT & IOLA LEE DAVIS MALVERN EL   43907118           22   \n",
       "159                           ALTER SCH  123908002           22   \n",
       "164        ALTERNATIVE EDUCATION SCHOOL  123905002           22   \n",
       "239               ANGELA GERUSA LEAL EL   31912117           22   \n",
       "\n",
       "    Campus Type Description  \n",
       "83          Suburb: Midsize  \n",
       "97          Suburb: Midsize  \n",
       "159         Suburb: Midsize  \n",
       "164         Suburb: Midsize  \n",
       "239         Suburb: Midsize  "
      ]
     },
     "execution_count": 14,
     "metadata": {},
     "output_type": "execute_result"
    }
   ],
   "source": [
    "mid_sub_schools = cam_data_orig[cam_data_orig[\"Campus Type\"] == 22]\n",
    "mid_sub_schools.head()"
   ]
  },
  {
   "cell_type": "code",
   "execution_count": 15,
   "id": "b65f822c",
   "metadata": {},
   "outputs": [
    {
     "data": {
      "text/plain": [
       "Campus Name                265\n",
       "Campus                     265\n",
       "Campus Type                265\n",
       "Campus Type Description    265\n",
       "dtype: int64"
      ]
     },
     "execution_count": 15,
     "metadata": {},
     "output_type": "execute_result"
    }
   ],
   "source": [
    "mid_sub_schools.count()"
   ]
  },
  {
   "cell_type": "code",
   "execution_count": 16,
   "id": "5d249a58",
   "metadata": {},
   "outputs": [
    {
     "data": {
      "text/html": [
       "<div>\n",
       "<style scoped>\n",
       "    .dataframe tbody tr th:only-of-type {\n",
       "        vertical-align: middle;\n",
       "    }\n",
       "\n",
       "    .dataframe tbody tr th {\n",
       "        vertical-align: top;\n",
       "    }\n",
       "\n",
       "    .dataframe thead th {\n",
       "        text-align: right;\n",
       "    }\n",
       "</style>\n",
       "<table border=\"1\" class=\"dataframe\">\n",
       "  <thead>\n",
       "    <tr style=\"text-align: right;\">\n",
       "      <th></th>\n",
       "      <th>Campus Name</th>\n",
       "      <th>Campus</th>\n",
       "      <th>Campus Type</th>\n",
       "      <th>Campus Type Description</th>\n",
       "    </tr>\n",
       "  </thead>\n",
       "  <tbody>\n",
       "    <tr>\n",
       "      <th>15</th>\n",
       "      <td>A P BEUTEL EL</td>\n",
       "      <td>20905102</td>\n",
       "      <td>23</td>\n",
       "      <td>Suburb: Small</td>\n",
       "    </tr>\n",
       "    <tr>\n",
       "      <th>241</th>\n",
       "      <td>ANGLETON J H SCHOOL</td>\n",
       "      <td>20902044</td>\n",
       "      <td>23</td>\n",
       "      <td>Suburb: Small</td>\n",
       "    </tr>\n",
       "    <tr>\n",
       "      <th>586</th>\n",
       "      <td>BELTON EARLY CHILDHOOD SCHOOL</td>\n",
       "      <td>14903119</td>\n",
       "      <td>23</td>\n",
       "      <td>Suburb: Small</td>\n",
       "    </tr>\n",
       "    <tr>\n",
       "      <th>587</th>\n",
       "      <td>BELTON H S</td>\n",
       "      <td>14903001</td>\n",
       "      <td>23</td>\n",
       "      <td>Suburb: Small</td>\n",
       "    </tr>\n",
       "    <tr>\n",
       "      <th>588</th>\n",
       "      <td>BELTON MIDDLE</td>\n",
       "      <td>14903046</td>\n",
       "      <td>23</td>\n",
       "      <td>Suburb: Small</td>\n",
       "    </tr>\n",
       "  </tbody>\n",
       "</table>\n",
       "</div>"
      ],
      "text/plain": [
       "                       Campus Name    Campus  Campus Type  \\\n",
       "15                   A P BEUTEL EL  20905102           23   \n",
       "241            ANGLETON J H SCHOOL  20902044           23   \n",
       "586  BELTON EARLY CHILDHOOD SCHOOL  14903119           23   \n",
       "587                     BELTON H S  14903001           23   \n",
       "588                  BELTON MIDDLE  14903046           23   \n",
       "\n",
       "    Campus Type Description  \n",
       "15            Suburb: Small  \n",
       "241           Suburb: Small  \n",
       "586           Suburb: Small  \n",
       "587           Suburb: Small  \n",
       "588           Suburb: Small  "
      ]
     },
     "execution_count": 16,
     "metadata": {},
     "output_type": "execute_result"
    }
   ],
   "source": [
    "small_sub_schools = cam_data_orig[cam_data_orig[\"Campus Type\"] == 23]\n",
    "small_sub_schools.head()"
   ]
  },
  {
   "cell_type": "code",
   "execution_count": 17,
   "id": "e2e3e978",
   "metadata": {},
   "outputs": [
    {
     "data": {
      "text/plain": [
       "Campus Name                55\n",
       "Campus                     55\n",
       "Campus Type                55\n",
       "Campus Type Description    55\n",
       "dtype: int64"
      ]
     },
     "execution_count": 17,
     "metadata": {},
     "output_type": "execute_result"
    }
   ],
   "source": [
    "small_sub_schools.count()"
   ]
  },
  {
   "cell_type": "code",
   "execution_count": 18,
   "id": "cbc5fde4",
   "metadata": {},
   "outputs": [
    {
     "data": {
      "text/html": [
       "<div>\n",
       "<style scoped>\n",
       "    .dataframe tbody tr th:only-of-type {\n",
       "        vertical-align: middle;\n",
       "    }\n",
       "\n",
       "    .dataframe tbody tr th {\n",
       "        vertical-align: top;\n",
       "    }\n",
       "\n",
       "    .dataframe thead th {\n",
       "        text-align: right;\n",
       "    }\n",
       "</style>\n",
       "<table border=\"1\" class=\"dataframe\">\n",
       "  <thead>\n",
       "    <tr style=\"text-align: right;\">\n",
       "      <th></th>\n",
       "      <th>Campus Name</th>\n",
       "      <th>Campus</th>\n",
       "      <th>Campus Type</th>\n",
       "      <th>Campus Type Description</th>\n",
       "    </tr>\n",
       "  </thead>\n",
       "  <tbody>\n",
       "    <tr>\n",
       "      <th>6</th>\n",
       "      <td>A C BLUNT MIDDLE</td>\n",
       "      <td>205901041</td>\n",
       "      <td>31</td>\n",
       "      <td>Town: Fringe</td>\n",
       "    </tr>\n",
       "    <tr>\n",
       "      <th>28</th>\n",
       "      <td>ABERNATHY EL</td>\n",
       "      <td>95901101</td>\n",
       "      <td>31</td>\n",
       "      <td>Town: Fringe</td>\n",
       "    </tr>\n",
       "    <tr>\n",
       "      <th>29</th>\n",
       "      <td>ABERNATHY H S</td>\n",
       "      <td>95901001</td>\n",
       "      <td>31</td>\n",
       "      <td>Town: Fringe</td>\n",
       "    </tr>\n",
       "    <tr>\n",
       "      <th>30</th>\n",
       "      <td>ABERNATHY MIDDLE</td>\n",
       "      <td>95901041</td>\n",
       "      <td>31</td>\n",
       "      <td>Town: Fringe</td>\n",
       "    </tr>\n",
       "    <tr>\n",
       "      <th>84</th>\n",
       "      <td>AIM COLLEGE &amp; CAREER PREP</td>\n",
       "      <td>84902007</td>\n",
       "      <td>31</td>\n",
       "      <td>Town: Fringe</td>\n",
       "    </tr>\n",
       "  </tbody>\n",
       "</table>\n",
       "</div>"
      ],
      "text/plain": [
       "                  Campus Name     Campus  Campus Type Campus Type Description\n",
       "6            A C BLUNT MIDDLE  205901041           31            Town: Fringe\n",
       "28               ABERNATHY EL   95901101           31            Town: Fringe\n",
       "29              ABERNATHY H S   95901001           31            Town: Fringe\n",
       "30           ABERNATHY MIDDLE   95901041           31            Town: Fringe\n",
       "84  AIM COLLEGE & CAREER PREP   84902007           31            Town: Fringe"
      ]
     },
     "execution_count": 18,
     "metadata": {},
     "output_type": "execute_result"
    }
   ],
   "source": [
    "town_fringe_schools = cam_data_orig[cam_data_orig[\"Campus Type\"] == 31]\n",
    "town_fringe_schools.head()"
   ]
  },
  {
   "cell_type": "code",
   "execution_count": 19,
   "id": "31591d58",
   "metadata": {},
   "outputs": [
    {
     "data": {
      "text/plain": [
       "Campus Name                222\n",
       "Campus                     222\n",
       "Campus Type                222\n",
       "Campus Type Description    222\n",
       "dtype: int64"
      ]
     },
     "execution_count": 19,
     "metadata": {},
     "output_type": "execute_result"
    }
   ],
   "source": [
    "town_fringe_schools.count()"
   ]
  },
  {
   "cell_type": "code",
   "execution_count": 20,
   "id": "b923adab",
   "metadata": {},
   "outputs": [
    {
     "data": {
      "text/html": [
       "<div>\n",
       "<style scoped>\n",
       "    .dataframe tbody tr th:only-of-type {\n",
       "        vertical-align: middle;\n",
       "    }\n",
       "\n",
       "    .dataframe tbody tr th {\n",
       "        vertical-align: top;\n",
       "    }\n",
       "\n",
       "    .dataframe thead th {\n",
       "        text-align: right;\n",
       "    }\n",
       "</style>\n",
       "<table border=\"1\" class=\"dataframe\">\n",
       "  <thead>\n",
       "    <tr style=\"text-align: right;\">\n",
       "      <th></th>\n",
       "      <th>Campus Name</th>\n",
       "      <th>Campus</th>\n",
       "      <th>Campus Type</th>\n",
       "      <th>Campus Type Description</th>\n",
       "    </tr>\n",
       "  </thead>\n",
       "  <tbody>\n",
       "    <tr>\n",
       "      <th>7</th>\n",
       "      <td>A C JONES H S</td>\n",
       "      <td>13901001</td>\n",
       "      <td>32</td>\n",
       "      <td>Town: Distant</td>\n",
       "    </tr>\n",
       "    <tr>\n",
       "      <th>8</th>\n",
       "      <td>A C JONES HEALTH PROFESSIONS MAGNET ACADEMY</td>\n",
       "      <td>13901004</td>\n",
       "      <td>32</td>\n",
       "      <td>Town: Distant</td>\n",
       "    </tr>\n",
       "    <tr>\n",
       "      <th>49</th>\n",
       "      <td>ACTON EL</td>\n",
       "      <td>111901102</td>\n",
       "      <td>32</td>\n",
       "      <td>Town: Distant</td>\n",
       "    </tr>\n",
       "    <tr>\n",
       "      <th>58</th>\n",
       "      <td>ADAMS MIDDLE</td>\n",
       "      <td>125901043</td>\n",
       "      <td>32</td>\n",
       "      <td>Town: Distant</td>\n",
       "    </tr>\n",
       "    <tr>\n",
       "      <th>82</th>\n",
       "      <td>AIKMAN EL</td>\n",
       "      <td>59901101</td>\n",
       "      <td>32</td>\n",
       "      <td>Town: Distant</td>\n",
       "    </tr>\n",
       "  </tbody>\n",
       "</table>\n",
       "</div>"
      ],
      "text/plain": [
       "                                    Campus Name     Campus  Campus Type  \\\n",
       "7                                 A C JONES H S   13901001           32   \n",
       "8   A C JONES HEALTH PROFESSIONS MAGNET ACADEMY   13901004           32   \n",
       "49                                     ACTON EL  111901102           32   \n",
       "58                                 ADAMS MIDDLE  125901043           32   \n",
       "82                                    AIKMAN EL   59901101           32   \n",
       "\n",
       "   Campus Type Description  \n",
       "7            Town: Distant  \n",
       "8            Town: Distant  \n",
       "49           Town: Distant  \n",
       "58           Town: Distant  \n",
       "82           Town: Distant  "
      ]
     },
     "execution_count": 20,
     "metadata": {},
     "output_type": "execute_result"
    }
   ],
   "source": [
    "town_distant_schools = cam_data_orig[cam_data_orig[\"Campus Type\"] == 32]\n",
    "town_distant_schools.head()"
   ]
  },
  {
   "cell_type": "code",
   "execution_count": 21,
   "id": "7682bd0a",
   "metadata": {},
   "outputs": [
    {
     "data": {
      "text/plain": [
       "Campus Name                502\n",
       "Campus                     502\n",
       "Campus Type                502\n",
       "Campus Type Description    502\n",
       "dtype: int64"
      ]
     },
     "execution_count": 21,
     "metadata": {},
     "output_type": "execute_result"
    }
   ],
   "source": [
    "town_distant_schools.count()"
   ]
  },
  {
   "cell_type": "code",
   "execution_count": 22,
   "id": "2ffc3729",
   "metadata": {},
   "outputs": [
    {
     "data": {
      "text/html": [
       "<div>\n",
       "<style scoped>\n",
       "    .dataframe tbody tr th:only-of-type {\n",
       "        vertical-align: middle;\n",
       "    }\n",
       "\n",
       "    .dataframe tbody tr th {\n",
       "        vertical-align: top;\n",
       "    }\n",
       "\n",
       "    .dataframe thead th {\n",
       "        text-align: right;\n",
       "    }\n",
       "</style>\n",
       "<table border=\"1\" class=\"dataframe\">\n",
       "  <thead>\n",
       "    <tr style=\"text-align: right;\">\n",
       "      <th></th>\n",
       "      <th>Campus Name</th>\n",
       "      <th>Campus</th>\n",
       "      <th>Campus Type</th>\n",
       "      <th>Campus Type Description</th>\n",
       "    </tr>\n",
       "  </thead>\n",
       "  <tbody>\n",
       "    <tr>\n",
       "      <th>5</th>\n",
       "      <td>A B MCBAY EL</td>\n",
       "      <td>147903103</td>\n",
       "      <td>33</td>\n",
       "      <td>Town: Remote</td>\n",
       "    </tr>\n",
       "    <tr>\n",
       "      <th>27</th>\n",
       "      <td>ABERNATHY DAEP</td>\n",
       "      <td>95901003</td>\n",
       "      <td>33</td>\n",
       "      <td>Town: Remote</td>\n",
       "    </tr>\n",
       "    <tr>\n",
       "      <th>81</th>\n",
       "      <td>AIKIN EL</td>\n",
       "      <td>139909109</td>\n",
       "      <td>33</td>\n",
       "      <td>Town: Remote</td>\n",
       "    </tr>\n",
       "    <tr>\n",
       "      <th>147</th>\n",
       "      <td>ALPINE EL</td>\n",
       "      <td>22901101</td>\n",
       "      <td>33</td>\n",
       "      <td>Town: Remote</td>\n",
       "    </tr>\n",
       "    <tr>\n",
       "      <th>148</th>\n",
       "      <td>ALPINE H S</td>\n",
       "      <td>22901001</td>\n",
       "      <td>33</td>\n",
       "      <td>Town: Remote</td>\n",
       "    </tr>\n",
       "  </tbody>\n",
       "</table>\n",
       "</div>"
      ],
      "text/plain": [
       "        Campus Name     Campus  Campus Type Campus Type Description\n",
       "5      A B MCBAY EL  147903103           33            Town: Remote\n",
       "27   ABERNATHY DAEP   95901003           33            Town: Remote\n",
       "81         AIKIN EL  139909109           33            Town: Remote\n",
       "147       ALPINE EL   22901101           33            Town: Remote\n",
       "148      ALPINE H S   22901001           33            Town: Remote"
      ]
     },
     "execution_count": 22,
     "metadata": {},
     "output_type": "execute_result"
    }
   ],
   "source": [
    "town_remote_schools = cam_data_orig[cam_data_orig[\"Campus Type\"] == 33]\n",
    "town_remote_schools.head()"
   ]
  },
  {
   "cell_type": "code",
   "execution_count": 23,
   "id": "3ab82ebb",
   "metadata": {},
   "outputs": [
    {
     "data": {
      "text/plain": [
       "Campus Name                362\n",
       "Campus                     362\n",
       "Campus Type                362\n",
       "Campus Type Description    362\n",
       "dtype: int64"
      ]
     },
     "execution_count": 23,
     "metadata": {},
     "output_type": "execute_result"
    }
   ],
   "source": [
    "town_remote_schools.count()"
   ]
  },
  {
   "cell_type": "code",
   "execution_count": 24,
   "id": "9fef7c69",
   "metadata": {},
   "outputs": [
    {
     "data": {
      "text/html": [
       "<div>\n",
       "<style scoped>\n",
       "    .dataframe tbody tr th:only-of-type {\n",
       "        vertical-align: middle;\n",
       "    }\n",
       "\n",
       "    .dataframe tbody tr th {\n",
       "        vertical-align: top;\n",
       "    }\n",
       "\n",
       "    .dataframe thead th {\n",
       "        text-align: right;\n",
       "    }\n",
       "</style>\n",
       "<table border=\"1\" class=\"dataframe\">\n",
       "  <thead>\n",
       "    <tr style=\"text-align: right;\">\n",
       "      <th></th>\n",
       "      <th>Campus Name</th>\n",
       "      <th>Campus</th>\n",
       "      <th>Campus Type</th>\n",
       "      <th>Campus Type Description</th>\n",
       "    </tr>\n",
       "  </thead>\n",
       "  <tbody>\n",
       "    <tr>\n",
       "      <th>4</th>\n",
       "      <td>A B DUNCAN EL</td>\n",
       "      <td>77901101</td>\n",
       "      <td>41</td>\n",
       "      <td>Rural: Fringe</td>\n",
       "    </tr>\n",
       "    <tr>\n",
       "      <th>9</th>\n",
       "      <td>A E BUTLER INT</td>\n",
       "      <td>116908101</td>\n",
       "      <td>41</td>\n",
       "      <td>Rural: Fringe</td>\n",
       "    </tr>\n",
       "    <tr>\n",
       "      <th>36</th>\n",
       "      <td>ACADEMY EL</td>\n",
       "      <td>14901102</td>\n",
       "      <td>41</td>\n",
       "      <td>Rural: Fringe</td>\n",
       "    </tr>\n",
       "    <tr>\n",
       "      <th>38</th>\n",
       "      <td>ACADEMY H S</td>\n",
       "      <td>14901001</td>\n",
       "      <td>41</td>\n",
       "      <td>Rural: Fringe</td>\n",
       "    </tr>\n",
       "    <tr>\n",
       "      <th>39</th>\n",
       "      <td>ACADEMY INT</td>\n",
       "      <td>14901101</td>\n",
       "      <td>41</td>\n",
       "      <td>Rural: Fringe</td>\n",
       "    </tr>\n",
       "  </tbody>\n",
       "</table>\n",
       "</div>"
      ],
      "text/plain": [
       "       Campus Name     Campus  Campus Type Campus Type Description\n",
       "4    A B DUNCAN EL   77901101           41           Rural: Fringe\n",
       "9   A E BUTLER INT  116908101           41           Rural: Fringe\n",
       "36      ACADEMY EL   14901102           41           Rural: Fringe\n",
       "38     ACADEMY H S   14901001           41           Rural: Fringe\n",
       "39     ACADEMY INT   14901101           41           Rural: Fringe"
      ]
     },
     "execution_count": 24,
     "metadata": {},
     "output_type": "execute_result"
    }
   ],
   "source": [
    "rural_fringe_schools = cam_data_orig[cam_data_orig[\"Campus Type\"] == 41]\n",
    "rural_fringe_schools.head()"
   ]
  },
  {
   "cell_type": "code",
   "execution_count": 25,
   "id": "e69a73b8",
   "metadata": {},
   "outputs": [
    {
     "data": {
      "text/plain": [
       "Campus Name                1107\n",
       "Campus                     1107\n",
       "Campus Type                1107\n",
       "Campus Type Description    1107\n",
       "dtype: int64"
      ]
     },
     "execution_count": 25,
     "metadata": {},
     "output_type": "execute_result"
    }
   ],
   "source": [
    "rural_fringe_schools.count()"
   ]
  },
  {
   "cell_type": "code",
   "execution_count": 26,
   "id": "feae8bfb",
   "metadata": {},
   "outputs": [
    {
     "data": {
      "text/html": [
       "<div>\n",
       "<style scoped>\n",
       "    .dataframe tbody tr th:only-of-type {\n",
       "        vertical-align: middle;\n",
       "    }\n",
       "\n",
       "    .dataframe tbody tr th {\n",
       "        vertical-align: top;\n",
       "    }\n",
       "\n",
       "    .dataframe thead th {\n",
       "        text-align: right;\n",
       "    }\n",
       "</style>\n",
       "<table border=\"1\" class=\"dataframe\">\n",
       "  <thead>\n",
       "    <tr style=\"text-align: right;\">\n",
       "      <th></th>\n",
       "      <th>Campus Name</th>\n",
       "      <th>Campus</th>\n",
       "      <th>Campus Type</th>\n",
       "      <th>Campus Type Description</th>\n",
       "    </tr>\n",
       "  </thead>\n",
       "  <tbody>\n",
       "    <tr>\n",
       "      <th>22</th>\n",
       "      <td>AARON PARKER EL</td>\n",
       "      <td>139911102</td>\n",
       "      <td>42</td>\n",
       "      <td>Rural: Distant</td>\n",
       "    </tr>\n",
       "    <tr>\n",
       "      <th>25</th>\n",
       "      <td>ABBOTT SCHOOL</td>\n",
       "      <td>109901001</td>\n",
       "      <td>42</td>\n",
       "      <td>Rural: Distant</td>\n",
       "    </tr>\n",
       "    <tr>\n",
       "      <th>74</th>\n",
       "      <td>AGUA DULCE EL</td>\n",
       "      <td>178901101</td>\n",
       "      <td>42</td>\n",
       "      <td>Rural: Distant</td>\n",
       "    </tr>\n",
       "    <tr>\n",
       "      <th>75</th>\n",
       "      <td>AGUA DULCE H S</td>\n",
       "      <td>178901001</td>\n",
       "      <td>42</td>\n",
       "      <td>Rural: Distant</td>\n",
       "    </tr>\n",
       "    <tr>\n",
       "      <th>86</th>\n",
       "      <td>AKIN EL</td>\n",
       "      <td>95903102</td>\n",
       "      <td>42</td>\n",
       "      <td>Rural: Distant</td>\n",
       "    </tr>\n",
       "  </tbody>\n",
       "</table>\n",
       "</div>"
      ],
      "text/plain": [
       "        Campus Name     Campus  Campus Type Campus Type Description\n",
       "22  AARON PARKER EL  139911102           42          Rural: Distant\n",
       "25    ABBOTT SCHOOL  109901001           42          Rural: Distant\n",
       "74    AGUA DULCE EL  178901101           42          Rural: Distant\n",
       "75   AGUA DULCE H S  178901001           42          Rural: Distant\n",
       "86          AKIN EL   95903102           42          Rural: Distant"
      ]
     },
     "execution_count": 26,
     "metadata": {},
     "output_type": "execute_result"
    }
   ],
   "source": [
    "rural_distant_schools = cam_data_orig[cam_data_orig[\"Campus Type\"] == 42]\n",
    "rural_distant_schools.head()"
   ]
  },
  {
   "cell_type": "code",
   "execution_count": 27,
   "id": "4520f321",
   "metadata": {},
   "outputs": [
    {
     "data": {
      "text/plain": [
       "Campus Name                764\n",
       "Campus                     764\n",
       "Campus Type                764\n",
       "Campus Type Description    764\n",
       "dtype: int64"
      ]
     },
     "execution_count": 27,
     "metadata": {},
     "output_type": "execute_result"
    }
   ],
   "source": [
    "rural_distant_schools.count()"
   ]
  },
  {
   "cell_type": "code",
   "execution_count": 28,
   "id": "33a0c97e",
   "metadata": {},
   "outputs": [
    {
     "data": {
      "text/html": [
       "<div>\n",
       "<style scoped>\n",
       "    .dataframe tbody tr th:only-of-type {\n",
       "        vertical-align: middle;\n",
       "    }\n",
       "\n",
       "    .dataframe tbody tr th {\n",
       "        vertical-align: top;\n",
       "    }\n",
       "\n",
       "    .dataframe thead th {\n",
       "        text-align: right;\n",
       "    }\n",
       "</style>\n",
       "<table border=\"1\" class=\"dataframe\">\n",
       "  <thead>\n",
       "    <tr style=\"text-align: right;\">\n",
       "      <th></th>\n",
       "      <th>Campus Name</th>\n",
       "      <th>Campus</th>\n",
       "      <th>Campus Type</th>\n",
       "      <th>Campus Type Description</th>\n",
       "    </tr>\n",
       "  </thead>\n",
       "  <tbody>\n",
       "    <tr>\n",
       "      <th>63</th>\n",
       "      <td>ADRIAN SCHOOL</td>\n",
       "      <td>180903001</td>\n",
       "      <td>43</td>\n",
       "      <td>Rural: Remote</td>\n",
       "    </tr>\n",
       "    <tr>\n",
       "      <th>96</th>\n",
       "      <td>ALBANY JR-SR H S</td>\n",
       "      <td>209901001</td>\n",
       "      <td>43</td>\n",
       "      <td>Rural: Remote</td>\n",
       "    </tr>\n",
       "    <tr>\n",
       "      <th>341</th>\n",
       "      <td>ASPERMONT EL</td>\n",
       "      <td>217901101</td>\n",
       "      <td>43</td>\n",
       "      <td>Rural: Remote</td>\n",
       "    </tr>\n",
       "    <tr>\n",
       "      <th>342</th>\n",
       "      <td>ASPERMONT H S</td>\n",
       "      <td>217901001</td>\n",
       "      <td>43</td>\n",
       "      <td>Rural: Remote</td>\n",
       "    </tr>\n",
       "    <tr>\n",
       "      <th>387</th>\n",
       "      <td>AUSTIN EL</td>\n",
       "      <td>96904101</td>\n",
       "      <td>43</td>\n",
       "      <td>Rural: Remote</td>\n",
       "    </tr>\n",
       "  </tbody>\n",
       "</table>\n",
       "</div>"
      ],
      "text/plain": [
       "          Campus Name     Campus  Campus Type Campus Type Description\n",
       "63      ADRIAN SCHOOL  180903001           43           Rural: Remote\n",
       "96   ALBANY JR-SR H S  209901001           43           Rural: Remote\n",
       "341      ASPERMONT EL  217901101           43           Rural: Remote\n",
       "342     ASPERMONT H S  217901001           43           Rural: Remote\n",
       "387         AUSTIN EL   96904101           43           Rural: Remote"
      ]
     },
     "execution_count": 28,
     "metadata": {},
     "output_type": "execute_result"
    }
   ],
   "source": [
    "rural_remote_schools = cam_data_orig[cam_data_orig[\"Campus Type\"] == 43]\n",
    "rural_remote_schools.head()"
   ]
  },
  {
   "cell_type": "code",
   "execution_count": 29,
   "id": "a1aeaf4c",
   "metadata": {},
   "outputs": [
    {
     "data": {
      "text/plain": [
       "Campus Name                394\n",
       "Campus                     394\n",
       "Campus Type                394\n",
       "Campus Type Description    394\n",
       "dtype: int64"
      ]
     },
     "execution_count": 29,
     "metadata": {},
     "output_type": "execute_result"
    }
   ],
   "source": [
    "rural_remote_schools.count()"
   ]
  },
  {
   "cell_type": "code",
   "execution_count": 30,
   "id": "dd18022c",
   "metadata": {},
   "outputs": [
    {
     "name": "stdout",
     "output_type": "stream",
     "text": [
      " Large City:  2437 \n",
      " Midsize City:  695 \n",
      " Small City:  376 \n",
      " Large Suburb:  1920 \n",
      " Midsize Suburb:  265 \n",
      " Small Suburb:  55 \n",
      " Town Fringe:  222 \n",
      " Town Distant:  502 \n",
      " Town Remote:  362 \n",
      " Rural Fringe:  1107 \n",
      " Rural Distant:  764 \n",
      " Rural Remote:  394\n"
     ]
    }
   ],
   "source": [
    "print(\" Large City: \",len (large_city_schools),\"\\n Midsize City: \", len(mid_city_schools),\"\\n Small City: \", len(small_city_schools),\"\\n Large Suburb: \", len(large_sub_schools),\"\\n Midsize Suburb: \", len(mid_sub_schools), \"\\n Small Suburb: \",len(small_sub_schools), \"\\n Town Fringe: \", len(town_fringe_schools), \"\\n Town Distant: \", len(town_distant_schools),\"\\n Town Remote: \", len(town_remote_schools), \"\\n Rural Fringe: \", len(rural_fringe_schools), \"\\n Rural Distant: \", len(rural_distant_schools),\"\\n Rural Remote: \", len(rural_remote_schools))"
   ]
  },
  {
   "cell_type": "code",
   "execution_count": 31,
   "id": "3828a0e3",
   "metadata": {},
   "outputs": [
    {
     "data": {
      "text/plain": [
       "9099"
      ]
     },
     "execution_count": 31,
     "metadata": {},
     "output_type": "execute_result"
    }
   ],
   "source": [
    "len (large_city_schools)+len(mid_city_schools)+len(small_city_schools)+len(large_sub_schools)+len(mid_sub_schools)+len(small_sub_schools)+len(town_fringe_schools)+len(town_distant_schools)+len(town_remote_schools)+len(rural_fringe_schools)+len(rural_distant_schools)+len(rural_remote_schools)"
   ]
  },
  {
   "cell_type": "markdown",
   "id": "ed0f7409",
   "metadata": {},
   "source": [
    "# Sample Size for Each School Type (High Schools Only)"
   ]
  },
  {
   "cell_type": "code",
   "execution_count": 116,
   "id": "f4d9cbb1",
   "metadata": {},
   "outputs": [
    {
     "name": "stdout",
     "output_type": "stream",
     "text": [
      "Large City:  192\n",
      "Midsize City:  54\n",
      "Small City:  27\n",
      "Large Suburb:  138\n",
      "Midsize Suburb:  17\n",
      "Small Suburb:  5\n",
      "Town Fringe:  19\n",
      "Town Distant:  52\n",
      "Town Remote:  37\n",
      "Rural Fringe:  114\n",
      "Rural Distant:  144\n",
      "Rural Remote:  102\n",
      "Total Sample Size:  901\n"
     ]
    }
   ],
   "source": [
    "print(\"Large City: \", math.ceil(900*(0.5*len(sat_data_selected[sat_data_selected[\"large_city\"]==True])/1792)))\n",
    "print(\"Midsize City: \", math.ceil(900*(0.5*len(sat_data_selected[sat_data_selected[\"mid_city\"]==True])/1792)))\n",
    "print(\"Small City: \", math.ceil(900*(0.5*len(sat_data_selected[sat_data_selected[\"small_city\"]==True])/1792)))\n",
    "print(\"Large Suburb: \", math.ceil(900*(0.5*len(sat_data_selected[sat_data_selected[\"large_sub\"]==True])/1792)))\n",
    "print(\"Midsize Suburb: \", math.ceil(900*(0.5*len(sat_data_selected[sat_data_selected[\"mid_sub\"]==True])/1792)))\n",
    "print(\"Small Suburb: \", math.ceil(900*(0.5*len(sat_data_selected[sat_data_selected[\"small_sub\"]==True])/1792)))\n",
    "print(\"Town Fringe: \", math.ceil(900*(0.5*len(sat_data_selected[sat_data_selected[\"town_fringe\"]==True])/1792)))\n",
    "print(\"Town Distant: \", math.ceil(900*(0.5*len(sat_data_selected[sat_data_selected[\"town_distant\"]==True])/1792)))\n",
    "print(\"Town Remote: \", math.ceil(900*(0.5*len(sat_data_selected[sat_data_selected[\"town_remote\"]==True])/1792)))\n",
    "print(\"Rural Fringe: \", math.ceil(900*(0.5*len(sat_data_selected[sat_data_selected[\"rural_fringe\"]==True])/1792)))\n",
    "print(\"Rural Distant: \", math.ceil(900*(0.5*len(sat_data_selected[sat_data_selected[\"rural_distant\"]==True])/1792)))\n",
    "print(\"Rural Remote: \", math.ceil(900*(0.5*len(sat_data_selected[sat_data_selected[\"rural_remote\"]==True])/1792)))\n",
    "print(\"Total Sample Size: \",192+54+27+138+17+5+19+52+37+114+144+102)"
   ]
  },
  {
   "cell_type": "code",
   "execution_count": 33,
   "id": "1d743150",
   "metadata": {},
   "outputs": [
    {
     "data": {
      "text/html": [
       "<div>\n",
       "<style scoped>\n",
       "    .dataframe tbody tr th:only-of-type {\n",
       "        vertical-align: middle;\n",
       "    }\n",
       "\n",
       "    .dataframe tbody tr th {\n",
       "        vertical-align: top;\n",
       "    }\n",
       "\n",
       "    .dataframe thead th {\n",
       "        text-align: right;\n",
       "    }\n",
       "</style>\n",
       "<table border=\"1\" class=\"dataframe\">\n",
       "  <thead>\n",
       "    <tr style=\"text-align: right;\">\n",
       "      <th></th>\n",
       "      <th>Group</th>\n",
       "      <th>Campus</th>\n",
       "      <th>AICode</th>\n",
       "      <th>CampName</th>\n",
       "      <th>District</th>\n",
       "      <th>DistName</th>\n",
       "      <th>County</th>\n",
       "      <th>CntyName</th>\n",
       "      <th>Region</th>\n",
       "      <th>RegnName</th>\n",
       "      <th>Grads_Mskd</th>\n",
       "      <th>Exnees_Mskd</th>\n",
       "      <th>Part_Rate</th>\n",
       "      <th>Crit_Mskd</th>\n",
       "      <th>Above_Crit_Rate</th>\n",
       "      <th>TSI_Both_Mskd</th>\n",
       "      <th>Above_TSI_Both_Rate</th>\n",
       "    </tr>\n",
       "  </thead>\n",
       "  <tbody>\n",
       "    <tr>\n",
       "      <th>0</th>\n",
       "      <td>All Students</td>\n",
       "      <td>1902001</td>\n",
       "      <td>441165</td>\n",
       "      <td>Cayuga H S</td>\n",
       "      <td>1902</td>\n",
       "      <td>Cayuga ISD</td>\n",
       "      <td>1</td>\n",
       "      <td>Anderson County</td>\n",
       "      <td>7</td>\n",
       "      <td>Kilgore</td>\n",
       "      <td>&lt;50</td>\n",
       "      <td>&lt;25</td>\n",
       "      <td>31.7</td>\n",
       "      <td>&lt;25</td>\n",
       "      <td>NaN</td>\n",
       "      <td>&lt;25</td>\n",
       "      <td>30.8</td>\n",
       "    </tr>\n",
       "    <tr>\n",
       "      <th>1</th>\n",
       "      <td>African American</td>\n",
       "      <td>1902001</td>\n",
       "      <td>441165</td>\n",
       "      <td>Cayuga H S</td>\n",
       "      <td>1902</td>\n",
       "      <td>Cayuga ISD</td>\n",
       "      <td>1</td>\n",
       "      <td>Anderson County</td>\n",
       "      <td>7</td>\n",
       "      <td>Kilgore</td>\n",
       "      <td>&lt;25</td>\n",
       "      <td>&lt;25</td>\n",
       "      <td>NaN</td>\n",
       "      <td>&lt;25</td>\n",
       "      <td>NaN</td>\n",
       "      <td>&lt;25</td>\n",
       "      <td>NaN</td>\n",
       "    </tr>\n",
       "    <tr>\n",
       "      <th>2</th>\n",
       "      <td>American Indian</td>\n",
       "      <td>1902001</td>\n",
       "      <td>441165</td>\n",
       "      <td>Cayuga H S</td>\n",
       "      <td>1902</td>\n",
       "      <td>Cayuga ISD</td>\n",
       "      <td>1</td>\n",
       "      <td>Anderson County</td>\n",
       "      <td>7</td>\n",
       "      <td>Kilgore</td>\n",
       "      <td>&lt;25</td>\n",
       "      <td>&lt;25</td>\n",
       "      <td>NaN</td>\n",
       "      <td>&lt;25</td>\n",
       "      <td>NaN</td>\n",
       "      <td>&lt;25</td>\n",
       "      <td>NaN</td>\n",
       "    </tr>\n",
       "    <tr>\n",
       "      <th>3</th>\n",
       "      <td>Asian</td>\n",
       "      <td>1902001</td>\n",
       "      <td>441165</td>\n",
       "      <td>Cayuga H S</td>\n",
       "      <td>1902</td>\n",
       "      <td>Cayuga ISD</td>\n",
       "      <td>1</td>\n",
       "      <td>Anderson County</td>\n",
       "      <td>7</td>\n",
       "      <td>Kilgore</td>\n",
       "      <td>&lt;25</td>\n",
       "      <td>&lt;25</td>\n",
       "      <td>NaN</td>\n",
       "      <td>&lt;25</td>\n",
       "      <td>NaN</td>\n",
       "      <td>&lt;25</td>\n",
       "      <td>NaN</td>\n",
       "    </tr>\n",
       "    <tr>\n",
       "      <th>4</th>\n",
       "      <td>Hispanic</td>\n",
       "      <td>1902001</td>\n",
       "      <td>441165</td>\n",
       "      <td>Cayuga H S</td>\n",
       "      <td>1902</td>\n",
       "      <td>Cayuga ISD</td>\n",
       "      <td>1</td>\n",
       "      <td>Anderson County</td>\n",
       "      <td>7</td>\n",
       "      <td>Kilgore</td>\n",
       "      <td>&lt;25</td>\n",
       "      <td>&lt;25</td>\n",
       "      <td>33.3</td>\n",
       "      <td>&lt;25</td>\n",
       "      <td>NaN</td>\n",
       "      <td>&lt;25</td>\n",
       "      <td>NaN</td>\n",
       "    </tr>\n",
       "  </tbody>\n",
       "</table>\n",
       "</div>"
      ],
      "text/plain": [
       "              Group   Campus  AICode    CampName  District    DistName  \\\n",
       "0      All Students  1902001  441165  Cayuga H S      1902  Cayuga ISD   \n",
       "1  African American  1902001  441165  Cayuga H S      1902  Cayuga ISD   \n",
       "2   American Indian  1902001  441165  Cayuga H S      1902  Cayuga ISD   \n",
       "3             Asian  1902001  441165  Cayuga H S      1902  Cayuga ISD   \n",
       "4          Hispanic  1902001  441165  Cayuga H S      1902  Cayuga ISD   \n",
       "\n",
       "   County         CntyName  Region RegnName Grads_Mskd Exnees_Mskd  Part_Rate  \\\n",
       "0       1  Anderson County       7  Kilgore        <50         <25       31.7   \n",
       "1       1  Anderson County       7  Kilgore        <25         <25        NaN   \n",
       "2       1  Anderson County       7  Kilgore        <25         <25        NaN   \n",
       "3       1  Anderson County       7  Kilgore        <25         <25        NaN   \n",
       "4       1  Anderson County       7  Kilgore        <25         <25       33.3   \n",
       "\n",
       "  Crit_Mskd  Above_Crit_Rate TSI_Both_Mskd  Above_TSI_Both_Rate  \n",
       "0       <25              NaN           <25                 30.8  \n",
       "1       <25              NaN           <25                  NaN  \n",
       "2       <25              NaN           <25                  NaN  \n",
       "3       <25              NaN           <25                  NaN  \n",
       "4       <25              NaN           <25                  NaN  "
      ]
     },
     "execution_count": 33,
     "metadata": {},
     "output_type": "execute_result"
    }
   ],
   "source": [
    "sat_data_orig.head()"
   ]
  },
  {
   "cell_type": "code",
   "execution_count": 34,
   "id": "5aaf5fba",
   "metadata": {},
   "outputs": [],
   "source": [
    "list_of_campuses = sat_data_orig[\"Campus\"].unique()"
   ]
  },
  {
   "cell_type": "code",
   "execution_count": 35,
   "id": "02d8a927",
   "metadata": {},
   "outputs": [
    {
     "data": {
      "text/html": [
       "<div>\n",
       "<style scoped>\n",
       "    .dataframe tbody tr th:only-of-type {\n",
       "        vertical-align: middle;\n",
       "    }\n",
       "\n",
       "    .dataframe tbody tr th {\n",
       "        vertical-align: top;\n",
       "    }\n",
       "\n",
       "    .dataframe thead th {\n",
       "        text-align: right;\n",
       "    }\n",
       "</style>\n",
       "<table border=\"1\" class=\"dataframe\">\n",
       "  <thead>\n",
       "    <tr style=\"text-align: right;\">\n",
       "      <th></th>\n",
       "      <th>Group</th>\n",
       "      <th>Campus</th>\n",
       "      <th>AICode</th>\n",
       "      <th>CampName</th>\n",
       "      <th>District</th>\n",
       "      <th>DistName</th>\n",
       "      <th>County</th>\n",
       "      <th>CntyName</th>\n",
       "      <th>Region</th>\n",
       "      <th>RegnName</th>\n",
       "      <th>Grads_Mskd</th>\n",
       "      <th>Exnees_Mskd</th>\n",
       "      <th>Part_Rate</th>\n",
       "      <th>Crit_Mskd</th>\n",
       "      <th>Above_Crit_Rate</th>\n",
       "      <th>TSI_Both_Mskd</th>\n",
       "      <th>Above_TSI_Both_Rate</th>\n",
       "    </tr>\n",
       "  </thead>\n",
       "  <tbody>\n",
       "    <tr>\n",
       "      <th>21</th>\n",
       "      <td>Gifted</td>\n",
       "      <td>1902001</td>\n",
       "      <td>441165</td>\n",
       "      <td>Cayuga H S</td>\n",
       "      <td>1902</td>\n",
       "      <td>Cayuga ISD</td>\n",
       "      <td>1</td>\n",
       "      <td>Anderson County</td>\n",
       "      <td>7</td>\n",
       "      <td>Kilgore</td>\n",
       "      <td>&lt;25</td>\n",
       "      <td>&lt;25</td>\n",
       "      <td>100.0</td>\n",
       "      <td>&lt;25</td>\n",
       "      <td>NaN</td>\n",
       "      <td>&lt;25</td>\n",
       "      <td>75.0</td>\n",
       "    </tr>\n",
       "    <tr>\n",
       "      <th>22</th>\n",
       "      <td>Not Gifted</td>\n",
       "      <td>1902001</td>\n",
       "      <td>441165</td>\n",
       "      <td>Cayuga H S</td>\n",
       "      <td>1902</td>\n",
       "      <td>Cayuga ISD</td>\n",
       "      <td>1</td>\n",
       "      <td>Anderson County</td>\n",
       "      <td>7</td>\n",
       "      <td>Kilgore</td>\n",
       "      <td>&lt;50</td>\n",
       "      <td>&lt;25</td>\n",
       "      <td>24.3</td>\n",
       "      <td>&lt;25</td>\n",
       "      <td>NaN</td>\n",
       "      <td>&lt;25</td>\n",
       "      <td>11.1</td>\n",
       "    </tr>\n",
       "    <tr>\n",
       "      <th>78</th>\n",
       "      <td>Gifted</td>\n",
       "      <td>1903001</td>\n",
       "      <td>442190</td>\n",
       "      <td>Elkhart H S</td>\n",
       "      <td>1903</td>\n",
       "      <td>Elkhart ISD</td>\n",
       "      <td>1</td>\n",
       "      <td>Anderson County</td>\n",
       "      <td>7</td>\n",
       "      <td>Kilgore</td>\n",
       "      <td>&lt;25</td>\n",
       "      <td>&lt;25</td>\n",
       "      <td>100.0</td>\n",
       "      <td>&lt;25</td>\n",
       "      <td>75.0</td>\n",
       "      <td>&lt;25</td>\n",
       "      <td>75.0</td>\n",
       "    </tr>\n",
       "    <tr>\n",
       "      <th>79</th>\n",
       "      <td>Not Gifted</td>\n",
       "      <td>1903001</td>\n",
       "      <td>442190</td>\n",
       "      <td>Elkhart H S</td>\n",
       "      <td>1903</td>\n",
       "      <td>Elkhart ISD</td>\n",
       "      <td>1</td>\n",
       "      <td>Anderson County</td>\n",
       "      <td>7</td>\n",
       "      <td>Kilgore</td>\n",
       "      <td>&lt;100</td>\n",
       "      <td>&lt;75</td>\n",
       "      <td>57.3</td>\n",
       "      <td>&lt;25</td>\n",
       "      <td>9.8</td>\n",
       "      <td>&lt;25</td>\n",
       "      <td>23.5</td>\n",
       "    </tr>\n",
       "    <tr>\n",
       "      <th>135</th>\n",
       "      <td>Gifted</td>\n",
       "      <td>1904001</td>\n",
       "      <td>442590</td>\n",
       "      <td>Frankston H S</td>\n",
       "      <td>1904</td>\n",
       "      <td>Frankston ISD</td>\n",
       "      <td>1</td>\n",
       "      <td>Anderson County</td>\n",
       "      <td>7</td>\n",
       "      <td>Kilgore</td>\n",
       "      <td>&lt;25</td>\n",
       "      <td>&lt;25</td>\n",
       "      <td>83.3</td>\n",
       "      <td>&lt;25</td>\n",
       "      <td>60.0</td>\n",
       "      <td>&lt;25</td>\n",
       "      <td>60.0</td>\n",
       "    </tr>\n",
       "  </tbody>\n",
       "</table>\n",
       "</div>"
      ],
      "text/plain": [
       "          Group   Campus  AICode       CampName  District       DistName  \\\n",
       "21       Gifted  1902001  441165     Cayuga H S      1902     Cayuga ISD   \n",
       "22   Not Gifted  1902001  441165     Cayuga H S      1902     Cayuga ISD   \n",
       "78       Gifted  1903001  442190    Elkhart H S      1903    Elkhart ISD   \n",
       "79   Not Gifted  1903001  442190    Elkhart H S      1903    Elkhart ISD   \n",
       "135      Gifted  1904001  442590  Frankston H S      1904  Frankston ISD   \n",
       "\n",
       "     County         CntyName  Region RegnName Grads_Mskd Exnees_Mskd  \\\n",
       "21        1  Anderson County       7  Kilgore        <25         <25   \n",
       "22        1  Anderson County       7  Kilgore        <50         <25   \n",
       "78        1  Anderson County       7  Kilgore        <25         <25   \n",
       "79        1  Anderson County       7  Kilgore       <100         <75   \n",
       "135       1  Anderson County       7  Kilgore        <25         <25   \n",
       "\n",
       "     Part_Rate Crit_Mskd  Above_Crit_Rate TSI_Both_Mskd  Above_TSI_Both_Rate  \n",
       "21       100.0       <25              NaN           <25                 75.0  \n",
       "22        24.3       <25              NaN           <25                 11.1  \n",
       "78       100.0       <25             75.0           <25                 75.0  \n",
       "79        57.3       <25              9.8           <25                 23.5  \n",
       "135       83.3       <25             60.0           <25                 60.0  "
      ]
     },
     "execution_count": 35,
     "metadata": {},
     "output_type": "execute_result"
    }
   ],
   "source": [
    "sat_data_selected = sat_data_orig[(sat_data_orig[\"Group\"] == \"Gifted\") | (sat_data_orig[\"Group\"] == \"Not Gifted\")]\n",
    "sat_data_selected.head()"
   ]
  },
  {
   "cell_type": "code",
   "execution_count": 36,
   "id": "5f97894a",
   "metadata": {},
   "outputs": [],
   "source": [
    "school_types = {\n",
    "    \"large_city\": large_city_schools[\"Campus\"],\n",
    "    \"mid_city\": mid_city_schools[\"Campus\"],\n",
    "    \"small_city\": small_city_schools[\"Campus\"],\n",
    "    \"large_sub\": large_sub_schools[\"Campus\"],\n",
    "    \"mid_sub\": mid_sub_schools[\"Campus\"],\n",
    "    \"small_sub\": small_sub_schools[\"Campus\"],\n",
    "    \"town_fringe\": town_fringe_schools[\"Campus\"],\n",
    "    \"town_distant\": town_distant_schools[\"Campus\"],\n",
    "    \"town_remote\": town_remote_schools[\"Campus\"],\n",
    "    \"rural_fringe\": rural_fringe_schools[\"Campus\"],\n",
    "    \"rural_distant\": rural_distant_schools[\"Campus\"],\n",
    "    \"rural_remote\": rural_remote_schools[\"Campus\"]\n",
    "}"
   ]
  },
  {
   "cell_type": "code",
   "execution_count": 37,
   "id": "738d20ce",
   "metadata": {},
   "outputs": [
    {
     "data": {
      "text/html": [
       "<div>\n",
       "<style scoped>\n",
       "    .dataframe tbody tr th:only-of-type {\n",
       "        vertical-align: middle;\n",
       "    }\n",
       "\n",
       "    .dataframe tbody tr th {\n",
       "        vertical-align: top;\n",
       "    }\n",
       "\n",
       "    .dataframe thead th {\n",
       "        text-align: right;\n",
       "    }\n",
       "</style>\n",
       "<table border=\"1\" class=\"dataframe\">\n",
       "  <thead>\n",
       "    <tr style=\"text-align: right;\">\n",
       "      <th></th>\n",
       "      <th>Group</th>\n",
       "      <th>Campus</th>\n",
       "      <th>AICode</th>\n",
       "      <th>CampName</th>\n",
       "      <th>District</th>\n",
       "      <th>DistName</th>\n",
       "      <th>County</th>\n",
       "      <th>CntyName</th>\n",
       "      <th>Region</th>\n",
       "      <th>RegnName</th>\n",
       "      <th>Grads_Mskd</th>\n",
       "      <th>Exnees_Mskd</th>\n",
       "      <th>Part_Rate</th>\n",
       "      <th>Crit_Mskd</th>\n",
       "      <th>Above_Crit_Rate</th>\n",
       "      <th>TSI_Both_Mskd</th>\n",
       "      <th>Above_TSI_Both_Rate</th>\n",
       "    </tr>\n",
       "  </thead>\n",
       "  <tbody>\n",
       "    <tr>\n",
       "      <th>21</th>\n",
       "      <td>Gifted</td>\n",
       "      <td>1902001</td>\n",
       "      <td>441165</td>\n",
       "      <td>Cayuga H S</td>\n",
       "      <td>1902</td>\n",
       "      <td>Cayuga ISD</td>\n",
       "      <td>1</td>\n",
       "      <td>Anderson County</td>\n",
       "      <td>7</td>\n",
       "      <td>Kilgore</td>\n",
       "      <td>&lt;25</td>\n",
       "      <td>&lt;25</td>\n",
       "      <td>100.0</td>\n",
       "      <td>&lt;25</td>\n",
       "      <td>NaN</td>\n",
       "      <td>&lt;25</td>\n",
       "      <td>75.0</td>\n",
       "    </tr>\n",
       "    <tr>\n",
       "      <th>22</th>\n",
       "      <td>Not Gifted</td>\n",
       "      <td>1902001</td>\n",
       "      <td>441165</td>\n",
       "      <td>Cayuga H S</td>\n",
       "      <td>1902</td>\n",
       "      <td>Cayuga ISD</td>\n",
       "      <td>1</td>\n",
       "      <td>Anderson County</td>\n",
       "      <td>7</td>\n",
       "      <td>Kilgore</td>\n",
       "      <td>&lt;50</td>\n",
       "      <td>&lt;25</td>\n",
       "      <td>24.3</td>\n",
       "      <td>&lt;25</td>\n",
       "      <td>NaN</td>\n",
       "      <td>&lt;25</td>\n",
       "      <td>11.1</td>\n",
       "    </tr>\n",
       "    <tr>\n",
       "      <th>78</th>\n",
       "      <td>Gifted</td>\n",
       "      <td>1903001</td>\n",
       "      <td>442190</td>\n",
       "      <td>Elkhart H S</td>\n",
       "      <td>1903</td>\n",
       "      <td>Elkhart ISD</td>\n",
       "      <td>1</td>\n",
       "      <td>Anderson County</td>\n",
       "      <td>7</td>\n",
       "      <td>Kilgore</td>\n",
       "      <td>&lt;25</td>\n",
       "      <td>&lt;25</td>\n",
       "      <td>100.0</td>\n",
       "      <td>&lt;25</td>\n",
       "      <td>75.0</td>\n",
       "      <td>&lt;25</td>\n",
       "      <td>75.0</td>\n",
       "    </tr>\n",
       "    <tr>\n",
       "      <th>79</th>\n",
       "      <td>Not Gifted</td>\n",
       "      <td>1903001</td>\n",
       "      <td>442190</td>\n",
       "      <td>Elkhart H S</td>\n",
       "      <td>1903</td>\n",
       "      <td>Elkhart ISD</td>\n",
       "      <td>1</td>\n",
       "      <td>Anderson County</td>\n",
       "      <td>7</td>\n",
       "      <td>Kilgore</td>\n",
       "      <td>&lt;100</td>\n",
       "      <td>&lt;75</td>\n",
       "      <td>57.3</td>\n",
       "      <td>&lt;25</td>\n",
       "      <td>9.8</td>\n",
       "      <td>&lt;25</td>\n",
       "      <td>23.5</td>\n",
       "    </tr>\n",
       "    <tr>\n",
       "      <th>135</th>\n",
       "      <td>Gifted</td>\n",
       "      <td>1904001</td>\n",
       "      <td>442590</td>\n",
       "      <td>Frankston H S</td>\n",
       "      <td>1904</td>\n",
       "      <td>Frankston ISD</td>\n",
       "      <td>1</td>\n",
       "      <td>Anderson County</td>\n",
       "      <td>7</td>\n",
       "      <td>Kilgore</td>\n",
       "      <td>&lt;25</td>\n",
       "      <td>&lt;25</td>\n",
       "      <td>83.3</td>\n",
       "      <td>&lt;25</td>\n",
       "      <td>60.0</td>\n",
       "      <td>&lt;25</td>\n",
       "      <td>60.0</td>\n",
       "    </tr>\n",
       "  </tbody>\n",
       "</table>\n",
       "</div>"
      ],
      "text/plain": [
       "          Group   Campus  AICode       CampName  District       DistName  \\\n",
       "21       Gifted  1902001  441165     Cayuga H S      1902     Cayuga ISD   \n",
       "22   Not Gifted  1902001  441165     Cayuga H S      1902     Cayuga ISD   \n",
       "78       Gifted  1903001  442190    Elkhart H S      1903    Elkhart ISD   \n",
       "79   Not Gifted  1903001  442190    Elkhart H S      1903    Elkhart ISD   \n",
       "135      Gifted  1904001  442590  Frankston H S      1904  Frankston ISD   \n",
       "\n",
       "     County         CntyName  Region RegnName Grads_Mskd Exnees_Mskd  \\\n",
       "21        1  Anderson County       7  Kilgore        <25         <25   \n",
       "22        1  Anderson County       7  Kilgore        <50         <25   \n",
       "78        1  Anderson County       7  Kilgore        <25         <25   \n",
       "79        1  Anderson County       7  Kilgore       <100         <75   \n",
       "135       1  Anderson County       7  Kilgore        <25         <25   \n",
       "\n",
       "     Part_Rate Crit_Mskd  Above_Crit_Rate TSI_Both_Mskd  Above_TSI_Both_Rate  \n",
       "21       100.0       <25              NaN           <25                 75.0  \n",
       "22        24.3       <25              NaN           <25                 11.1  \n",
       "78       100.0       <25             75.0           <25                 75.0  \n",
       "79        57.3       <25              9.8           <25                 23.5  \n",
       "135       83.3       <25             60.0           <25                 60.0  "
      ]
     },
     "execution_count": 37,
     "metadata": {},
     "output_type": "execute_result"
    }
   ],
   "source": [
    "sat_data_selected.head()"
   ]
  },
  {
   "cell_type": "code",
   "execution_count": 38,
   "id": "dbbe2c54",
   "metadata": {},
   "outputs": [
    {
     "name": "stderr",
     "output_type": "stream",
     "text": [
      "/var/folders/vm/qg92d4j56_l5x0q4g9hbq4j80000gn/T/ipykernel_57343/3883165323.py:1: SettingWithCopyWarning: \n",
      "A value is trying to be set on a copy of a slice from a DataFrame.\n",
      "Try using .loc[row_indexer,col_indexer] = value instead\n",
      "\n",
      "See the caveats in the documentation: https://pandas.pydata.org/pandas-docs/stable/user_guide/indexing.html#returning-a-view-versus-a-copy\n",
      "  sat_data_selected[\"large_city\"] = sat_data_selected[\"Campus\"].isin(school_types[\"large_city\"])\n",
      "/var/folders/vm/qg92d4j56_l5x0q4g9hbq4j80000gn/T/ipykernel_57343/3883165323.py:2: SettingWithCopyWarning: \n",
      "A value is trying to be set on a copy of a slice from a DataFrame.\n",
      "Try using .loc[row_indexer,col_indexer] = value instead\n",
      "\n",
      "See the caveats in the documentation: https://pandas.pydata.org/pandas-docs/stable/user_guide/indexing.html#returning-a-view-versus-a-copy\n",
      "  sat_data_selected[\"mid_city\"] = sat_data_selected[\"Campus\"].isin(school_types[\"mid_city\"])\n",
      "/var/folders/vm/qg92d4j56_l5x0q4g9hbq4j80000gn/T/ipykernel_57343/3883165323.py:3: SettingWithCopyWarning: \n",
      "A value is trying to be set on a copy of a slice from a DataFrame.\n",
      "Try using .loc[row_indexer,col_indexer] = value instead\n",
      "\n",
      "See the caveats in the documentation: https://pandas.pydata.org/pandas-docs/stable/user_guide/indexing.html#returning-a-view-versus-a-copy\n",
      "  sat_data_selected[\"small_city\"] = sat_data_selected[\"Campus\"].isin(school_types[\"small_city\"])\n",
      "/var/folders/vm/qg92d4j56_l5x0q4g9hbq4j80000gn/T/ipykernel_57343/3883165323.py:4: SettingWithCopyWarning: \n",
      "A value is trying to be set on a copy of a slice from a DataFrame.\n",
      "Try using .loc[row_indexer,col_indexer] = value instead\n",
      "\n",
      "See the caveats in the documentation: https://pandas.pydata.org/pandas-docs/stable/user_guide/indexing.html#returning-a-view-versus-a-copy\n",
      "  sat_data_selected[\"large_sub\"] = sat_data_selected[\"Campus\"].isin(school_types[\"large_sub\"])\n",
      "/var/folders/vm/qg92d4j56_l5x0q4g9hbq4j80000gn/T/ipykernel_57343/3883165323.py:5: SettingWithCopyWarning: \n",
      "A value is trying to be set on a copy of a slice from a DataFrame.\n",
      "Try using .loc[row_indexer,col_indexer] = value instead\n",
      "\n",
      "See the caveats in the documentation: https://pandas.pydata.org/pandas-docs/stable/user_guide/indexing.html#returning-a-view-versus-a-copy\n",
      "  sat_data_selected[\"mid_sub\"] = sat_data_selected[\"Campus\"].isin(school_types[\"mid_sub\"])\n",
      "/var/folders/vm/qg92d4j56_l5x0q4g9hbq4j80000gn/T/ipykernel_57343/3883165323.py:6: SettingWithCopyWarning: \n",
      "A value is trying to be set on a copy of a slice from a DataFrame.\n",
      "Try using .loc[row_indexer,col_indexer] = value instead\n",
      "\n",
      "See the caveats in the documentation: https://pandas.pydata.org/pandas-docs/stable/user_guide/indexing.html#returning-a-view-versus-a-copy\n",
      "  sat_data_selected[\"small_sub\"] = sat_data_selected[\"Campus\"].isin(school_types[\"small_sub\"])\n",
      "/var/folders/vm/qg92d4j56_l5x0q4g9hbq4j80000gn/T/ipykernel_57343/3883165323.py:7: SettingWithCopyWarning: \n",
      "A value is trying to be set on a copy of a slice from a DataFrame.\n",
      "Try using .loc[row_indexer,col_indexer] = value instead\n",
      "\n",
      "See the caveats in the documentation: https://pandas.pydata.org/pandas-docs/stable/user_guide/indexing.html#returning-a-view-versus-a-copy\n",
      "  sat_data_selected[\"town_fringe\"] = sat_data_selected[\"Campus\"].isin(school_types[\"town_fringe\"])\n",
      "/var/folders/vm/qg92d4j56_l5x0q4g9hbq4j80000gn/T/ipykernel_57343/3883165323.py:8: SettingWithCopyWarning: \n",
      "A value is trying to be set on a copy of a slice from a DataFrame.\n",
      "Try using .loc[row_indexer,col_indexer] = value instead\n",
      "\n",
      "See the caveats in the documentation: https://pandas.pydata.org/pandas-docs/stable/user_guide/indexing.html#returning-a-view-versus-a-copy\n",
      "  sat_data_selected[\"town_distant\"] = sat_data_selected[\"Campus\"].isin(school_types[\"town_distant\"])\n",
      "/var/folders/vm/qg92d4j56_l5x0q4g9hbq4j80000gn/T/ipykernel_57343/3883165323.py:9: SettingWithCopyWarning: \n",
      "A value is trying to be set on a copy of a slice from a DataFrame.\n",
      "Try using .loc[row_indexer,col_indexer] = value instead\n",
      "\n",
      "See the caveats in the documentation: https://pandas.pydata.org/pandas-docs/stable/user_guide/indexing.html#returning-a-view-versus-a-copy\n",
      "  sat_data_selected[\"town_remote\"] = sat_data_selected[\"Campus\"].isin(school_types[\"town_remote\"])\n",
      "/var/folders/vm/qg92d4j56_l5x0q4g9hbq4j80000gn/T/ipykernel_57343/3883165323.py:10: SettingWithCopyWarning: \n",
      "A value is trying to be set on a copy of a slice from a DataFrame.\n",
      "Try using .loc[row_indexer,col_indexer] = value instead\n",
      "\n",
      "See the caveats in the documentation: https://pandas.pydata.org/pandas-docs/stable/user_guide/indexing.html#returning-a-view-versus-a-copy\n",
      "  sat_data_selected[\"rural_fringe\"] = sat_data_selected[\"Campus\"].isin(school_types[\"rural_fringe\"])\n",
      "/var/folders/vm/qg92d4j56_l5x0q4g9hbq4j80000gn/T/ipykernel_57343/3883165323.py:11: SettingWithCopyWarning: \n",
      "A value is trying to be set on a copy of a slice from a DataFrame.\n",
      "Try using .loc[row_indexer,col_indexer] = value instead\n",
      "\n",
      "See the caveats in the documentation: https://pandas.pydata.org/pandas-docs/stable/user_guide/indexing.html#returning-a-view-versus-a-copy\n",
      "  sat_data_selected[\"rural_distant\"] = sat_data_selected[\"Campus\"].isin(school_types[\"rural_distant\"])\n",
      "/var/folders/vm/qg92d4j56_l5x0q4g9hbq4j80000gn/T/ipykernel_57343/3883165323.py:12: SettingWithCopyWarning: \n",
      "A value is trying to be set on a copy of a slice from a DataFrame.\n",
      "Try using .loc[row_indexer,col_indexer] = value instead\n",
      "\n",
      "See the caveats in the documentation: https://pandas.pydata.org/pandas-docs/stable/user_guide/indexing.html#returning-a-view-versus-a-copy\n",
      "  sat_data_selected[\"rural_remote\"] = sat_data_selected[\"Campus\"].isin(school_types[\"rural_remote\"])\n"
     ]
    },
    {
     "data": {
      "text/html": [
       "<div>\n",
       "<style scoped>\n",
       "    .dataframe tbody tr th:only-of-type {\n",
       "        vertical-align: middle;\n",
       "    }\n",
       "\n",
       "    .dataframe tbody tr th {\n",
       "        vertical-align: top;\n",
       "    }\n",
       "\n",
       "    .dataframe thead th {\n",
       "        text-align: right;\n",
       "    }\n",
       "</style>\n",
       "<table border=\"1\" class=\"dataframe\">\n",
       "  <thead>\n",
       "    <tr style=\"text-align: right;\">\n",
       "      <th></th>\n",
       "      <th>Group</th>\n",
       "      <th>Campus</th>\n",
       "      <th>AICode</th>\n",
       "      <th>CampName</th>\n",
       "      <th>District</th>\n",
       "      <th>DistName</th>\n",
       "      <th>County</th>\n",
       "      <th>CntyName</th>\n",
       "      <th>Region</th>\n",
       "      <th>RegnName</th>\n",
       "      <th>...</th>\n",
       "      <th>small_city</th>\n",
       "      <th>large_sub</th>\n",
       "      <th>mid_sub</th>\n",
       "      <th>small_sub</th>\n",
       "      <th>town_fringe</th>\n",
       "      <th>town_distant</th>\n",
       "      <th>town_remote</th>\n",
       "      <th>rural_fringe</th>\n",
       "      <th>rural_distant</th>\n",
       "      <th>rural_remote</th>\n",
       "    </tr>\n",
       "  </thead>\n",
       "  <tbody>\n",
       "    <tr>\n",
       "      <th>21</th>\n",
       "      <td>Gifted</td>\n",
       "      <td>1902001</td>\n",
       "      <td>441165</td>\n",
       "      <td>Cayuga H S</td>\n",
       "      <td>1902</td>\n",
       "      <td>Cayuga ISD</td>\n",
       "      <td>1</td>\n",
       "      <td>Anderson County</td>\n",
       "      <td>7</td>\n",
       "      <td>Kilgore</td>\n",
       "      <td>...</td>\n",
       "      <td>False</td>\n",
       "      <td>False</td>\n",
       "      <td>False</td>\n",
       "      <td>False</td>\n",
       "      <td>False</td>\n",
       "      <td>False</td>\n",
       "      <td>False</td>\n",
       "      <td>False</td>\n",
       "      <td>False</td>\n",
       "      <td>True</td>\n",
       "    </tr>\n",
       "    <tr>\n",
       "      <th>22</th>\n",
       "      <td>Not Gifted</td>\n",
       "      <td>1902001</td>\n",
       "      <td>441165</td>\n",
       "      <td>Cayuga H S</td>\n",
       "      <td>1902</td>\n",
       "      <td>Cayuga ISD</td>\n",
       "      <td>1</td>\n",
       "      <td>Anderson County</td>\n",
       "      <td>7</td>\n",
       "      <td>Kilgore</td>\n",
       "      <td>...</td>\n",
       "      <td>False</td>\n",
       "      <td>False</td>\n",
       "      <td>False</td>\n",
       "      <td>False</td>\n",
       "      <td>False</td>\n",
       "      <td>False</td>\n",
       "      <td>False</td>\n",
       "      <td>False</td>\n",
       "      <td>False</td>\n",
       "      <td>True</td>\n",
       "    </tr>\n",
       "    <tr>\n",
       "      <th>78</th>\n",
       "      <td>Gifted</td>\n",
       "      <td>1903001</td>\n",
       "      <td>442190</td>\n",
       "      <td>Elkhart H S</td>\n",
       "      <td>1903</td>\n",
       "      <td>Elkhart ISD</td>\n",
       "      <td>1</td>\n",
       "      <td>Anderson County</td>\n",
       "      <td>7</td>\n",
       "      <td>Kilgore</td>\n",
       "      <td>...</td>\n",
       "      <td>False</td>\n",
       "      <td>False</td>\n",
       "      <td>False</td>\n",
       "      <td>False</td>\n",
       "      <td>False</td>\n",
       "      <td>False</td>\n",
       "      <td>False</td>\n",
       "      <td>False</td>\n",
       "      <td>True</td>\n",
       "      <td>False</td>\n",
       "    </tr>\n",
       "    <tr>\n",
       "      <th>79</th>\n",
       "      <td>Not Gifted</td>\n",
       "      <td>1903001</td>\n",
       "      <td>442190</td>\n",
       "      <td>Elkhart H S</td>\n",
       "      <td>1903</td>\n",
       "      <td>Elkhart ISD</td>\n",
       "      <td>1</td>\n",
       "      <td>Anderson County</td>\n",
       "      <td>7</td>\n",
       "      <td>Kilgore</td>\n",
       "      <td>...</td>\n",
       "      <td>False</td>\n",
       "      <td>False</td>\n",
       "      <td>False</td>\n",
       "      <td>False</td>\n",
       "      <td>False</td>\n",
       "      <td>False</td>\n",
       "      <td>False</td>\n",
       "      <td>False</td>\n",
       "      <td>True</td>\n",
       "      <td>False</td>\n",
       "    </tr>\n",
       "    <tr>\n",
       "      <th>135</th>\n",
       "      <td>Gifted</td>\n",
       "      <td>1904001</td>\n",
       "      <td>442590</td>\n",
       "      <td>Frankston H S</td>\n",
       "      <td>1904</td>\n",
       "      <td>Frankston ISD</td>\n",
       "      <td>1</td>\n",
       "      <td>Anderson County</td>\n",
       "      <td>7</td>\n",
       "      <td>Kilgore</td>\n",
       "      <td>...</td>\n",
       "      <td>False</td>\n",
       "      <td>False</td>\n",
       "      <td>False</td>\n",
       "      <td>False</td>\n",
       "      <td>False</td>\n",
       "      <td>False</td>\n",
       "      <td>False</td>\n",
       "      <td>False</td>\n",
       "      <td>True</td>\n",
       "      <td>False</td>\n",
       "    </tr>\n",
       "  </tbody>\n",
       "</table>\n",
       "<p>5 rows × 29 columns</p>\n",
       "</div>"
      ],
      "text/plain": [
       "          Group   Campus  AICode       CampName  District       DistName  \\\n",
       "21       Gifted  1902001  441165     Cayuga H S      1902     Cayuga ISD   \n",
       "22   Not Gifted  1902001  441165     Cayuga H S      1902     Cayuga ISD   \n",
       "78       Gifted  1903001  442190    Elkhart H S      1903    Elkhart ISD   \n",
       "79   Not Gifted  1903001  442190    Elkhart H S      1903    Elkhart ISD   \n",
       "135      Gifted  1904001  442590  Frankston H S      1904  Frankston ISD   \n",
       "\n",
       "     County         CntyName  Region RegnName  ... small_city large_sub  \\\n",
       "21        1  Anderson County       7  Kilgore  ...      False     False   \n",
       "22        1  Anderson County       7  Kilgore  ...      False     False   \n",
       "78        1  Anderson County       7  Kilgore  ...      False     False   \n",
       "79        1  Anderson County       7  Kilgore  ...      False     False   \n",
       "135       1  Anderson County       7  Kilgore  ...      False     False   \n",
       "\n",
       "     mid_sub small_sub  town_fringe town_distant  town_remote  rural_fringe  \\\n",
       "21     False     False        False        False        False         False   \n",
       "22     False     False        False        False        False         False   \n",
       "78     False     False        False        False        False         False   \n",
       "79     False     False        False        False        False         False   \n",
       "135    False     False        False        False        False         False   \n",
       "\n",
       "     rural_distant  rural_remote  \n",
       "21           False          True  \n",
       "22           False          True  \n",
       "78            True         False  \n",
       "79            True         False  \n",
       "135           True         False  \n",
       "\n",
       "[5 rows x 29 columns]"
      ]
     },
     "execution_count": 38,
     "metadata": {},
     "output_type": "execute_result"
    }
   ],
   "source": [
    "sat_data_selected[\"large_city\"] = sat_data_selected[\"Campus\"].isin(school_types[\"large_city\"])\n",
    "sat_data_selected[\"mid_city\"] = sat_data_selected[\"Campus\"].isin(school_types[\"mid_city\"])\n",
    "sat_data_selected[\"small_city\"] = sat_data_selected[\"Campus\"].isin(school_types[\"small_city\"])\n",
    "sat_data_selected[\"large_sub\"] = sat_data_selected[\"Campus\"].isin(school_types[\"large_sub\"])\n",
    "sat_data_selected[\"mid_sub\"] = sat_data_selected[\"Campus\"].isin(school_types[\"mid_sub\"])\n",
    "sat_data_selected[\"small_sub\"] = sat_data_selected[\"Campus\"].isin(school_types[\"small_sub\"])\n",
    "sat_data_selected[\"town_fringe\"] = sat_data_selected[\"Campus\"].isin(school_types[\"town_fringe\"])\n",
    "sat_data_selected[\"town_distant\"] = sat_data_selected[\"Campus\"].isin(school_types[\"town_distant\"])\n",
    "sat_data_selected[\"town_remote\"] = sat_data_selected[\"Campus\"].isin(school_types[\"town_remote\"])\n",
    "sat_data_selected[\"rural_fringe\"] = sat_data_selected[\"Campus\"].isin(school_types[\"rural_fringe\"])\n",
    "sat_data_selected[\"rural_distant\"] = sat_data_selected[\"Campus\"].isin(school_types[\"rural_distant\"])\n",
    "sat_data_selected[\"rural_remote\"] = sat_data_selected[\"Campus\"].isin(school_types[\"rural_remote\"])\n",
    "sat_data_selected.head()"
   ]
  },
  {
   "cell_type": "code",
   "execution_count": 39,
   "id": "c5752452",
   "metadata": {},
   "outputs": [
    {
     "data": {
      "text/html": [
       "<div>\n",
       "<style scoped>\n",
       "    .dataframe tbody tr th:only-of-type {\n",
       "        vertical-align: middle;\n",
       "    }\n",
       "\n",
       "    .dataframe tbody tr th {\n",
       "        vertical-align: top;\n",
       "    }\n",
       "\n",
       "    .dataframe thead th {\n",
       "        text-align: right;\n",
       "    }\n",
       "</style>\n",
       "<table border=\"1\" class=\"dataframe\">\n",
       "  <thead>\n",
       "    <tr style=\"text-align: right;\">\n",
       "      <th></th>\n",
       "      <th>Group</th>\n",
       "      <th>Campus</th>\n",
       "      <th>AICode</th>\n",
       "      <th>CampName</th>\n",
       "      <th>District</th>\n",
       "      <th>DistName</th>\n",
       "      <th>County</th>\n",
       "      <th>CntyName</th>\n",
       "      <th>Region</th>\n",
       "      <th>RegnName</th>\n",
       "      <th>...</th>\n",
       "      <th>small_city</th>\n",
       "      <th>large_sub</th>\n",
       "      <th>mid_sub</th>\n",
       "      <th>small_sub</th>\n",
       "      <th>town_fringe</th>\n",
       "      <th>town_distant</th>\n",
       "      <th>town_remote</th>\n",
       "      <th>rural_fringe</th>\n",
       "      <th>rural_distant</th>\n",
       "      <th>rural_remote</th>\n",
       "    </tr>\n",
       "  </thead>\n",
       "  <tbody>\n",
       "    <tr>\n",
       "      <th>35817</th>\n",
       "      <td>Gifted</td>\n",
       "      <td>72801137</td>\n",
       "      <td>442939</td>\n",
       "      <td>Premier H S Of Granbury</td>\n",
       "      <td>72801</td>\n",
       "      <td>Premier High Schools</td>\n",
       "      <td>72</td>\n",
       "      <td>Erath County</td>\n",
       "      <td>11</td>\n",
       "      <td>Fort Worth</td>\n",
       "      <td>...</td>\n",
       "      <td>False</td>\n",
       "      <td>False</td>\n",
       "      <td>False</td>\n",
       "      <td>False</td>\n",
       "      <td>False</td>\n",
       "      <td>True</td>\n",
       "      <td>False</td>\n",
       "      <td>False</td>\n",
       "      <td>False</td>\n",
       "      <td>False</td>\n",
       "    </tr>\n",
       "    <tr>\n",
       "      <th>12561</th>\n",
       "      <td>Gifted</td>\n",
       "      <td>30906001</td>\n",
       "      <td>441370</td>\n",
       "      <td>Eula H S</td>\n",
       "      <td>30906</td>\n",
       "      <td>Eula ISD</td>\n",
       "      <td>30</td>\n",
       "      <td>Callahan County</td>\n",
       "      <td>14</td>\n",
       "      <td>Abilene</td>\n",
       "      <td>...</td>\n",
       "      <td>False</td>\n",
       "      <td>False</td>\n",
       "      <td>False</td>\n",
       "      <td>False</td>\n",
       "      <td>False</td>\n",
       "      <td>False</td>\n",
       "      <td>False</td>\n",
       "      <td>False</td>\n",
       "      <td>True</td>\n",
       "      <td>False</td>\n",
       "    </tr>\n",
       "    <tr>\n",
       "      <th>60270</th>\n",
       "      <td>Gifted</td>\n",
       "      <td>114904001</td>\n",
       "      <td>442475</td>\n",
       "      <td>Forsan H S</td>\n",
       "      <td>114904</td>\n",
       "      <td>Forsan ISD</td>\n",
       "      <td>114</td>\n",
       "      <td>Howard County</td>\n",
       "      <td>18</td>\n",
       "      <td>Midland</td>\n",
       "      <td>...</td>\n",
       "      <td>False</td>\n",
       "      <td>False</td>\n",
       "      <td>False</td>\n",
       "      <td>False</td>\n",
       "      <td>False</td>\n",
       "      <td>False</td>\n",
       "      <td>False</td>\n",
       "      <td>False</td>\n",
       "      <td>True</td>\n",
       "      <td>False</td>\n",
       "    </tr>\n",
       "    <tr>\n",
       "      <th>24987</th>\n",
       "      <td>Gifted</td>\n",
       "      <td>57905034</td>\n",
       "      <td>441732</td>\n",
       "      <td>Booker T Washington Spva Magnet</td>\n",
       "      <td>57905</td>\n",
       "      <td>Dallas ISD</td>\n",
       "      <td>57</td>\n",
       "      <td>Dallas County</td>\n",
       "      <td>10</td>\n",
       "      <td>Richardson</td>\n",
       "      <td>...</td>\n",
       "      <td>False</td>\n",
       "      <td>False</td>\n",
       "      <td>False</td>\n",
       "      <td>False</td>\n",
       "      <td>False</td>\n",
       "      <td>False</td>\n",
       "      <td>False</td>\n",
       "      <td>False</td>\n",
       "      <td>False</td>\n",
       "      <td>False</td>\n",
       "    </tr>\n",
       "    <tr>\n",
       "      <th>83925</th>\n",
       "      <td>Gifted</td>\n",
       "      <td>212804102</td>\n",
       "      <td>440019</td>\n",
       "      <td>Ut Tyler University Academy At Lon</td>\n",
       "      <td>212804</td>\n",
       "      <td>Ut Tyler University Academy</td>\n",
       "      <td>212</td>\n",
       "      <td>Smith County</td>\n",
       "      <td>7</td>\n",
       "      <td>Kilgore</td>\n",
       "      <td>...</td>\n",
       "      <td>True</td>\n",
       "      <td>False</td>\n",
       "      <td>False</td>\n",
       "      <td>False</td>\n",
       "      <td>False</td>\n",
       "      <td>False</td>\n",
       "      <td>False</td>\n",
       "      <td>False</td>\n",
       "      <td>False</td>\n",
       "      <td>False</td>\n",
       "    </tr>\n",
       "  </tbody>\n",
       "</table>\n",
       "<p>5 rows × 29 columns</p>\n",
       "</div>"
      ],
      "text/plain": [
       "        Group     Campus  AICode                            CampName  \\\n",
       "35817  Gifted   72801137  442939             Premier H S Of Granbury   \n",
       "12561  Gifted   30906001  441370                            Eula H S   \n",
       "60270  Gifted  114904001  442475                          Forsan H S   \n",
       "24987  Gifted   57905034  441732     Booker T Washington Spva Magnet   \n",
       "83925  Gifted  212804102  440019  Ut Tyler University Academy At Lon   \n",
       "\n",
       "       District                     DistName  County         CntyName  Region  \\\n",
       "35817     72801         Premier High Schools      72     Erath County      11   \n",
       "12561     30906                     Eula ISD      30  Callahan County      14   \n",
       "60270    114904                   Forsan ISD     114    Howard County      18   \n",
       "24987     57905                   Dallas ISD      57    Dallas County      10   \n",
       "83925    212804  Ut Tyler University Academy     212     Smith County       7   \n",
       "\n",
       "         RegnName  ... small_city large_sub  mid_sub small_sub  town_fringe  \\\n",
       "35817  Fort Worth  ...      False     False    False     False        False   \n",
       "12561     Abilene  ...      False     False    False     False        False   \n",
       "60270     Midland  ...      False     False    False     False        False   \n",
       "24987  Richardson  ...      False     False    False     False        False   \n",
       "83925     Kilgore  ...       True     False    False     False        False   \n",
       "\n",
       "      town_distant  town_remote  rural_fringe  rural_distant  rural_remote  \n",
       "35817         True        False         False          False         False  \n",
       "12561        False        False         False           True         False  \n",
       "60270        False        False         False           True         False  \n",
       "24987        False        False         False          False         False  \n",
       "83925        False        False         False          False         False  \n",
       "\n",
       "[5 rows x 29 columns]"
      ]
     },
     "execution_count": 39,
     "metadata": {},
     "output_type": "execute_result"
    }
   ],
   "source": [
    "test = sat_data_selected[sat_data_selected[\"large_city\"] == True].sample(n=20, random_state=42)\n",
    "\n",
    "test_gifted = sat_data_selected[sat_data_selected[\"Group\"] == \"Gifted\"]\n",
    "test_not_gifted = sat_data_selected[sat_data_selected[\"Group\"] == \"Not Gifted\"]\n",
    "\n",
    "test_gifted.sample(n=5, random_state=42)"
   ]
  },
  {
   "cell_type": "markdown",
   "id": "0f9a80a5",
   "metadata": {},
   "source": [
    "# Samples of Various Schools \n",
    "    * _sample denotes GT students\n",
    "    * _sample_2 denotes NON GT students"
   ]
  },
  {
   "cell_type": "markdown",
   "id": "f026f4e3",
   "metadata": {},
   "source": [
    "## City Schools"
   ]
  },
  {
   "cell_type": "code",
   "execution_count": 40,
   "id": "04064a1c",
   "metadata": {},
   "outputs": [],
   "source": [
    "large_city_sample = sat_data_selected[(sat_data_selected[\"large_city\"] == True) & (sat_data_selected[\"Group\"] == \"Gifted\")].sample(n=192, random_state=42,replace=False)\n",
    "large_city_sample_2 = sat_data_selected[(sat_data_selected[\"large_city\"] == True) & (sat_data_selected[\"Group\"] == \"Not Gifted\")].sample(n=192, random_state=42,replace=False)"
   ]
  },
  {
   "cell_type": "code",
   "execution_count": 41,
   "id": "7043463c",
   "metadata": {},
   "outputs": [],
   "source": [
    "mid_city_sample = sat_data_selected[(sat_data_selected[\"mid_city\"] == True) & (sat_data_selected[\"Group\"] == \"Gifted\")].sample(n=54, random_state=42,replace=False)\n",
    "mid_city_sample_2 = sat_data_selected[(sat_data_selected[\"mid_city\"] == True) & (sat_data_selected[\"Group\"] == \"Not Gifted\")].sample(n=54, random_state=42,replace=False)"
   ]
  },
  {
   "cell_type": "code",
   "execution_count": 42,
   "id": "8959a29d",
   "metadata": {},
   "outputs": [],
   "source": [
    "small_city_sample = sat_data_selected[(sat_data_selected[\"small_city\"] == True) & (sat_data_selected[\"Group\"] == \"Gifted\")].sample(n=27, random_state=42,replace=False)\n",
    "small_city_sample_2 = sat_data_selected[(sat_data_selected[\"small_city\"] == True) & (sat_data_selected[\"Group\"] == \"Not Gifted\")].sample(n=27, random_state=42,replace=False)"
   ]
  },
  {
   "cell_type": "markdown",
   "id": "dcdeeed3",
   "metadata": {},
   "source": [
    "## Suburb Schools"
   ]
  },
  {
   "cell_type": "code",
   "execution_count": 43,
   "id": "2c09cce8",
   "metadata": {},
   "outputs": [],
   "source": [
    "large_sub_sample = sat_data_selected[(sat_data_selected[\"large_sub\"] == True) & (sat_data_selected[\"Group\"] == \"Gifted\")].sample(n=138, random_state=42,replace=False)\n",
    "large_sub_sample_2 = sat_data_selected[(sat_data_selected[\"large_sub\"] == True) & (sat_data_selected[\"Group\"] == \"Not Gifted\")].sample(n=138, random_state=42,replace=False)"
   ]
  },
  {
   "cell_type": "code",
   "execution_count": 44,
   "id": "99283b0c",
   "metadata": {},
   "outputs": [],
   "source": [
    "mid_sub_sample = sat_data_selected[(sat_data_selected[\"mid_sub\"] == True) & (sat_data_selected[\"Group\"] == \"Gifted\")].sample(n=17, random_state=42,replace=False)\n",
    "mid_sub_sample_2 = sat_data_selected[(sat_data_selected[\"mid_sub\"] == True) & (sat_data_selected[\"Group\"] == \"Not Gifted\")].sample(n=17, random_state=42,replace=False)"
   ]
  },
  {
   "cell_type": "code",
   "execution_count": 45,
   "id": "f9f1129c",
   "metadata": {},
   "outputs": [],
   "source": [
    "small_sub_sample = sat_data_selected[(sat_data_selected[\"small_sub\"] == True) & (sat_data_selected[\"Group\"] == \"Gifted\")].sample(n=5, random_state=42,replace=False)\n",
    "small_sub_sample_2 = sat_data_selected[(sat_data_selected[\"small_sub\"] == True) & (sat_data_selected[\"Group\"] == \"Not Gifted\")].sample(n=5, random_state=42,replace=False)"
   ]
  },
  {
   "cell_type": "markdown",
   "id": "f4759cc5",
   "metadata": {},
   "source": [
    "## Town Schools"
   ]
  },
  {
   "cell_type": "code",
   "execution_count": 46,
   "id": "ba8dd97a",
   "metadata": {},
   "outputs": [],
   "source": [
    "town_fringe_sample = sat_data_selected[(sat_data_selected[\"town_fringe\"] == True) & (sat_data_selected[\"Group\"] == \"Gifted\")].sample(n=19, random_state=42,replace=False)\n",
    "town_fringe_sample_2 = sat_data_selected[(sat_data_selected[\"town_fringe\"] == True) & (sat_data_selected[\"Group\"] == \"Not Gifted\")].sample(n=19, random_state=42,replace=False)"
   ]
  },
  {
   "cell_type": "code",
   "execution_count": 47,
   "id": "bea95b1d",
   "metadata": {},
   "outputs": [],
   "source": [
    "town_distant_sample = sat_data_selected[(sat_data_selected[\"town_distant\"] == True) & (sat_data_selected[\"Group\"] == \"Gifted\")].sample(n=52, random_state=42,replace=False)\n",
    "town_distant_sample_2 = sat_data_selected[(sat_data_selected[\"town_distant\"] == True) & (sat_data_selected[\"Group\"] == \"Not Gifted\")].sample(n=52, random_state=42,replace=False)"
   ]
  },
  {
   "cell_type": "code",
   "execution_count": 48,
   "id": "a6c4f7a3",
   "metadata": {},
   "outputs": [],
   "source": [
    "town_remote_sample = sat_data_selected[(sat_data_selected[\"town_remote\"] == True) & (sat_data_selected[\"Group\"] == \"Gifted\")].sample(n=37, random_state=42,replace=False)\n",
    "town_remote_sample_2 = sat_data_selected[(sat_data_selected[\"town_remote\"] == True) & (sat_data_selected[\"Group\"] == \"Not Gifted\")].sample(n=37, random_state=42,replace=False)"
   ]
  },
  {
   "cell_type": "markdown",
   "id": "65c086b5",
   "metadata": {},
   "source": [
    "## Rural Schools"
   ]
  },
  {
   "cell_type": "code",
   "execution_count": 49,
   "id": "90db59c8",
   "metadata": {},
   "outputs": [],
   "source": [
    "rural_fringe_sample = sat_data_selected[(sat_data_selected[\"rural_fringe\"] == True) & (sat_data_selected[\"Group\"] == \"Gifted\")].sample(n=114, random_state=42,replace=False)\n",
    "rural_fringe_sample_2 = sat_data_selected[(sat_data_selected[\"rural_fringe\"] == True) & (sat_data_selected[\"Group\"] == \"Not Gifted\")].sample(n=114, random_state=42,replace=False)"
   ]
  },
  {
   "cell_type": "code",
   "execution_count": 50,
   "id": "f388aa4c",
   "metadata": {},
   "outputs": [],
   "source": [
    "rural_distant_sample = sat_data_selected[(sat_data_selected[\"rural_distant\"] == True) & (sat_data_selected[\"Group\"] == \"Gifted\")].sample(n=144, random_state=42,replace=False)\n",
    "rural_distant_sample_2 = sat_data_selected[(sat_data_selected[\"rural_distant\"] == True) & (sat_data_selected[\"Group\"] == \"Not Gifted\")].sample(n=144, random_state=42,replace=False)"
   ]
  },
  {
   "cell_type": "code",
   "execution_count": 51,
   "id": "aeb91ebb",
   "metadata": {},
   "outputs": [],
   "source": [
    "rural_remote_sample = sat_data_selected[(sat_data_selected[\"rural_remote\"] == True) & (sat_data_selected[\"Group\"] == \"Gifted\")].sample(n=102, random_state=42,replace=False)\n",
    "rural_remote_sample_2 = sat_data_selected[(sat_data_selected[\"rural_remote\"] == True) & (sat_data_selected[\"Group\"] == \"Not Gifted\")].sample(n=102, random_state=42,replace=False)"
   ]
  },
  {
   "cell_type": "code",
   "execution_count": 52,
   "id": "accc30ee",
   "metadata": {},
   "outputs": [],
   "source": [
    "gifted_samples = [large_city_sample,mid_city_sample, small_city_sample,large_sub_sample,mid_sub_sample,small_sub_sample,town_fringe_sample,town_distant_sample,town_remote_sample,rural_fringe_sample,rural_distant_sample,rural_remote_sample]\n",
    "overall_gifted_sample = pd.concat(gifted_samples)"
   ]
  },
  {
   "cell_type": "markdown",
   "id": "ecdbc8cd",
   "metadata": {},
   "source": [
    "# Complete Sample\n",
    "    * combines City, Suburb, Town, and Rural to obtain representative sample"
   ]
  },
  {
   "cell_type": "code",
   "execution_count": 53,
   "id": "6a4b7eb3",
   "metadata": {},
   "outputs": [],
   "source": [
    "not_gifted_samples = [large_city_sample_2,mid_city_sample_2, small_city_sample_2,large_sub_sample_2,mid_sub_sample_2,small_sub_sample_2,town_fringe_sample_2,town_distant_sample_2,town_remote_sample_2,rural_fringe_sample_2,rural_distant_sample_2,rural_remote_sample_2]\n",
    "overall_not_gifted_sample = pd.concat(not_gifted_samples)"
   ]
  },
  {
   "cell_type": "markdown",
   "id": "400366a6",
   "metadata": {},
   "source": [
    "## Participation Rate\n",
    "    * Number of graduates taking the SAT and/or ACT"
   ]
  },
  {
   "cell_type": "code",
   "execution_count": 214,
   "id": "eb09d13b",
   "metadata": {},
   "outputs": [
    {
     "data": {
      "image/png": "[encoded data removed]",
      "text/plain": [
       "<Figure size 720x720 with 2 Axes>"
      ]
     },
     "metadata": {
      "needs_background": "light"
     },
     "output_type": "display_data"
    }
   ],
   "source": [
    "fig, (ax0, ax1) = plt.subplots(nrows =1, ncols = 2, sharey=True, figsize=(10,10))\n",
    "ax0.hist(overall_gifted_sample[\"Part_Rate\"], color=\"royalblue\")\n",
    "ax1.hist(overall_not_gifted_sample[\"Part_Rate\"], color=\"crimson\");\n",
    "fig.legend([\"Gifted\", \"Not Gifted\"], prop={'size':15});\n",
    "fig.suptitle(\"SAT/ACT Participation Rate Gifted vs Not Gifted\", fontsize=16)\n",
    "ax0.set_xlabel(\"Participation Rate\", fontsize=12)\n",
    "ax1.set_xlabel(\"Participation Rate\", fontsize=12)\n",
    "ax0.set_ylabel(\"Frequency\", fontsize=15);\n",
    "\n",
    "ax0.axvline(x=overall_gifted_sample[\"Part_Rate\"].median(),linestyle=\"dashed\", color=\"black\")\n",
    "ax0.text(overall_gifted_sample[\"Part_Rate\"].median()+1, 550, \"median\",fontsize=12)\n",
    "ax0.axvline(x=overall_gifted_sample[\"Part_Rate\"].mean(),linestyle=\"dashed\", color=\"green\")\n",
    "ax0.text(overall_gifted_sample[\"Part_Rate\"].mean()-14, 550, \"mean\",fontsize=12)\n",
    "ax0.text(63, 550, 'σ = {}'.format(round(overall_gifted_sample[\"Part_Rate\"].std())), fontsize=12)\n",
    "\n",
    "ax1.axvline(x=overall_not_gifted_sample[\"Part_Rate\"].median(),linestyle=\"dashed\", color=\"black\")\n",
    "ax1.text(overall_not_gifted_sample[\"Part_Rate\"].median()+1, 550, \"median\",fontsize=12)\n",
    "ax1.axvline(x=overall_not_gifted_sample[\"Part_Rate\"].mean(),linestyle=\"dashed\", color=\"green\")\n",
    "ax1.text(overall_not_gifted_sample[\"Part_Rate\"].mean()-16, 550, \"mean\",fontsize=12)\n",
    "ax1.text(35, 550, 'σ = {}'.format(round(overall_not_gifted_sample[\"Part_Rate\"].std())), fontsize=12);\n",
    "\n",
    "fig.savefig(\"images/Participation Rate.png\", facecolor=\"white\")"
   ]
  },
  {
   "cell_type": "markdown",
   "id": "fb4ae70e",
   "metadata": {},
   "source": [
    "## Metrics for Participation Rate"
   ]
  },
  {
   "cell_type": "code",
   "execution_count": 136,
   "id": "39a4d1c0",
   "metadata": {},
   "outputs": [
    {
     "name": "stdout",
     "output_type": "stream",
     "text": [
      "----Gifted Metrics----\n"
     ]
    },
    {
     "data": {
      "text/plain": [
       "count    656.000000\n",
       "mean      95.173323\n",
       "std       10.963787\n",
       "min       11.800000\n",
       "25%       96.325000\n",
       "50%      100.000000\n",
       "75%      100.000000\n",
       "max      100.000000\n",
       "Name: Part_Rate, dtype: float64"
      ]
     },
     "execution_count": 136,
     "metadata": {},
     "output_type": "execute_result"
    }
   ],
   "source": [
    "print(\"----Gifted Metrics----\")\n",
    "overall_gifted_sample[\"Part_Rate\"].describe()"
   ]
  },
  {
   "cell_type": "code",
   "execution_count": 109,
   "id": "0ab6cb68",
   "metadata": {},
   "outputs": [
    {
     "name": "stdout",
     "output_type": "stream",
     "text": [
      "----Not Gifted Metrics----\n"
     ]
    },
    {
     "data": {
      "text/plain": [
       "count    866.000000\n",
       "mean      70.216397\n",
       "std       28.234094\n",
       "min        0.800000\n",
       "25%       50.925000\n",
       "50%       75.550000\n",
       "75%       98.400000\n",
       "max      100.000000\n",
       "Name: Part_Rate, dtype: float64"
      ]
     },
     "execution_count": 109,
     "metadata": {},
     "output_type": "execute_result"
    }
   ],
   "source": [
    "print(\"----Not Gifted Metrics----\")\n",
    "overall_not_gifted_sample[\"Part_Rate\"].describe()"
   ]
  },
  {
   "cell_type": "markdown",
   "id": "91d3927f",
   "metadata": {},
   "source": [
    "## Above Criteria Rate\n",
    "    * Percent of graduating examinees scoring at or above 1180 (SAT total) or 24 (ACT composite)"
   ]
  },
  {
   "cell_type": "code",
   "execution_count": 215,
   "id": "3d564c46",
   "metadata": {},
   "outputs": [
    {
     "data": {
      "image/png": "[encoded data removed]",
      "text/plain": [
       "<Figure size 720x720 with 2 Axes>"
      ]
     },
     "metadata": {
      "needs_background": "light"
     },
     "output_type": "display_data"
    }
   ],
   "source": [
    "fig, (ax0, ax1) = plt.subplots(nrows =1, ncols = 2, sharey=True, figsize=(10,10))\n",
    "ax0.hist(overall_gifted_sample[\"Above_Crit_Rate\"], color=\"royalblue\")\n",
    "ax1.hist(overall_not_gifted_sample[\"Above_Crit_Rate\"], color=\"crimson\");\n",
    "fig.legend([\"Gifted\", \"Not Gifted\"], prop={'size':15});\n",
    "fig.suptitle(\"Above Criteria Rate Gifted vs Not Gifted\", fontsize=16)\n",
    "ax0.set_xlabel(\"Above Criteria Rate\", fontsize=12)\n",
    "ax1.set_xlabel(\"Above Criteria Rate\", fontsize=12)\n",
    "ax0.set_ylabel(\"Frequency\", fontsize=15);\n",
    "\n",
    "ax0.axvline(x=overall_gifted_sample[\"Above_Crit_Rate\"].median(),linestyle=\"dashed\", color=\"black\")\n",
    "ax0.text(overall_gifted_sample[\"Above_Crit_Rate\"].median()+1, 325, \"median\",fontsize=12)\n",
    "ax0.axvline(x=overall_gifted_sample[\"Above_Crit_Rate\"].mean(),linestyle=\"dashed\", color=\"green\")\n",
    "ax0.text(overall_gifted_sample[\"Above_Crit_Rate\"].mean()-15, 325, \"mean\",fontsize=12)\n",
    "ax0.text(27, 325, 'σ = {}'.format(round(overall_gifted_sample[\"Above_Crit_Rate\"].std())), fontsize=12)\n",
    "\n",
    "ax1.axvline(x=overall_not_gifted_sample[\"Above_Crit_Rate\"].median(),linestyle=\"dashed\", color=\"black\")\n",
    "ax1.text(overall_not_gifted_sample[\"Above_Crit_Rate\"].median()-20, 325, \"median\",fontsize=12)\n",
    "ax1.axvline(x=overall_not_gifted_sample[\"Above_Crit_Rate\"].mean(),linestyle=\"dashed\", color=\"green\")\n",
    "ax1.text(overall_not_gifted_sample[\"Above_Crit_Rate\"].mean()+7, 325, \"mean\",fontsize=12)\n",
    "ax1.text(43, 325, 'σ = {}'.format(round(overall_not_gifted_sample[\"Above_Crit_Rate\"].std())), fontsize=12);\n",
    "\n",
    "fig.savefig(\"images/Above Criteria Rate.png\", facecolor=\"white\")"
   ]
  },
  {
   "cell_type": "markdown",
   "id": "d25a0bb0",
   "metadata": {},
   "source": [
    "## Metrics for Above Criteria Rate"
   ]
  },
  {
   "cell_type": "code",
   "execution_count": 112,
   "id": "db9ba1eb",
   "metadata": {},
   "outputs": [
    {
     "name": "stdout",
     "output_type": "stream",
     "text": [
      "----Gifted Metrics----\n"
     ]
    },
    {
     "data": {
      "text/plain": [
       "count    608.000000\n",
       "mean      61.788487\n",
       "std       27.797117\n",
       "min        4.200000\n",
       "25%       39.475000\n",
       "50%       63.950000\n",
       "75%       85.825000\n",
       "max      100.000000\n",
       "Name: Above_Crit_Rate, dtype: float64"
      ]
     },
     "execution_count": 112,
     "metadata": {},
     "output_type": "execute_result"
    }
   ],
   "source": [
    "print(\"----Gifted Metrics----\")\n",
    "overall_gifted_sample[\"Above_Crit_Rate\"].describe()"
   ]
  },
  {
   "cell_type": "code",
   "execution_count": 113,
   "id": "c9f75e01",
   "metadata": {},
   "outputs": [
    {
     "name": "stdout",
     "output_type": "stream",
     "text": [
      "----Not Gifted Metrics----\n"
     ]
    },
    {
     "data": {
      "text/plain": [
       "count    714.000000\n",
       "mean      16.636275\n",
       "std       15.946278\n",
       "min        0.300000\n",
       "25%        5.700000\n",
       "50%       11.800000\n",
       "75%       21.950000\n",
       "max      100.000000\n",
       "Name: Above_Crit_Rate, dtype: float64"
      ]
     },
     "execution_count": 113,
     "metadata": {},
     "output_type": "execute_result"
    }
   ],
   "source": [
    "print(\"----Not Gifted Metrics----\")\n",
    "overall_not_gifted_sample[\"Above_Crit_Rate\"].describe()"
   ]
  },
  {
   "cell_type": "markdown",
   "id": "5f6a5a58",
   "metadata": {},
   "source": [
    "## Above TSI Both Rate\n",
    "    * Percent of graduating examinees scoring at or above 1180 (SAT total) or 24 (ACT composite)"
   ]
  },
  {
   "cell_type": "code",
   "execution_count": 216,
   "id": "46b9ec1b",
   "metadata": {},
   "outputs": [
    {
     "data": {
      "image/png": "[encoded data removed]",
      "text/plain": [
       "<Figure size 720x720 with 2 Axes>"
      ]
     },
     "metadata": {
      "needs_background": "light"
     },
     "output_type": "display_data"
    }
   ],
   "source": [
    "fig, (ax0, ax1) = plt.subplots(nrows =1, ncols = 2, sharey=True, figsize=(10,10))\n",
    "ax0.hist(overall_gifted_sample[\"Above_TSI_Both_Rate\"], color=\"royalblue\")\n",
    "ax1.hist(overall_not_gifted_sample[\"Above_TSI_Both_Rate\"], color=\"crimson\");\n",
    "fig.legend([\"Gifted\", \"Not Gifted\"], prop={'size':15});\n",
    "fig.suptitle(\"Above TSI Both Rate Gifted vs Not Gifted\", fontsize=16)\n",
    "ax0.set_xlabel(\"Above TSI Both Rate\", fontsize=12)\n",
    "ax1.set_xlabel(\"Above TSI Both Rate\", fontsize=12)\n",
    "ax0.set_ylabel(\"Frequency\", fontsize=15);\n",
    "\n",
    "ax0.axvline(x=overall_gifted_sample[\"Above_TSI_Both_Rate\"].median(),linestyle=\"dashed\", color=\"black\")\n",
    "ax0.text(overall_gifted_sample[\"Above_TSI_Both_Rate\"].median()+1, 240, \"median\",fontsize=12)\n",
    "ax0.axvline(x=overall_gifted_sample[\"Above_TSI_Both_Rate\"].mean(),linestyle=\"dashed\", color=\"green\")\n",
    "ax0.text(overall_gifted_sample[\"Above_TSI_Both_Rate\"].mean()-15, 240, \"mean\",fontsize=12)\n",
    "ax0.text(27, 240, 'σ = {}'.format(round(overall_gifted_sample[\"Above_TSI_Both_Rate\"].std())), fontsize=12)\n",
    "\n",
    "ax1.axvline(x=overall_not_gifted_sample[\"Above_TSI_Both_Rate\"].median(),linestyle=\"dashed\", color=\"black\")\n",
    "ax1.text(overall_not_gifted_sample[\"Above_TSI_Both_Rate\"].median()-20, 240, \"median\",fontsize=12)\n",
    "ax1.axvline(x=overall_not_gifted_sample[\"Above_TSI_Both_Rate\"].mean(),linestyle=\"dashed\", color=\"green\")\n",
    "ax1.text(overall_not_gifted_sample[\"Above_TSI_Both_Rate\"].mean()+2, 240, \"mean\",fontsize=12)\n",
    "ax1.text(55, 240, 'σ = {}'.format(round(overall_not_gifted_sample[\"Above_TSI_Both_Rate\"].std())), fontsize=12);\n",
    "\n",
    "fig.savefig(\"images/Above TSI Both Rate.png\", facecolor=\"white\")"
   ]
  },
  {
   "cell_type": "markdown",
   "id": "3fc44a6b",
   "metadata": {},
   "source": [
    "## Metrics for Above TSI Both Rate"
   ]
  },
  {
   "cell_type": "code",
   "execution_count": 114,
   "id": "5ecac88d",
   "metadata": {},
   "outputs": [
    {
     "name": "stdout",
     "output_type": "stream",
     "text": [
      "----Gifted Metrics----\n"
     ]
    },
    {
     "data": {
      "text/plain": [
       "count    636.000000\n",
       "mean      75.493868\n",
       "std       23.683728\n",
       "min        5.300000\n",
       "25%       57.100000\n",
       "50%       81.700000\n",
       "75%      100.000000\n",
       "max      100.000000\n",
       "Name: Above_TSI_Both_Rate, dtype: float64"
      ]
     },
     "execution_count": 114,
     "metadata": {},
     "output_type": "execute_result"
    }
   ],
   "source": [
    "print(\"----Gifted Metrics----\")\n",
    "overall_gifted_sample[\"Above_TSI_Both_Rate\"].describe()"
   ]
  },
  {
   "cell_type": "code",
   "execution_count": 115,
   "id": "f512209c",
   "metadata": {},
   "outputs": [
    {
     "name": "stdout",
     "output_type": "stream",
     "text": [
      "----Not Gifted Metrics----\n"
     ]
    },
    {
     "data": {
      "text/plain": [
       "count    783.000000\n",
       "mean      28.515709\n",
       "std       20.842003\n",
       "min        1.300000\n",
       "25%       12.400000\n",
       "50%       23.400000\n",
       "75%       38.650000\n",
       "max      100.000000\n",
       "Name: Above_TSI_Both_Rate, dtype: float64"
      ]
     },
     "execution_count": 115,
     "metadata": {},
     "output_type": "execute_result"
    }
   ],
   "source": [
    "print(\"----Not Gifted Metrics----\")\n",
    "overall_not_gifted_sample[\"Above_TSI_Both_Rate\"].describe()"
   ]
  }
 ],
 "metadata": {
  "kernelspec": {
   "display_name": "Python 3 (ipykernel)",
   "language": "python",
   "name": "python3"
  },
  "language_info": {
   "codemirror_mode": {
    "name": "ipython",
    "version": 3
   },
   "file_extension": ".py",
   "mimetype": "text/x-python",
   "name": "python",
   "nbconvert_exporter": "python",
   "pygments_lexer": "ipython3",
   "version": "3.9.7"
  }
 },
 "nbformat": 4,
 "nbformat_minor": 5
}
